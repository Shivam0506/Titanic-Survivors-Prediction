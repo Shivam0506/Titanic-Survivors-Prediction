{
  "nbformat": 4,
  "nbformat_minor": 0,
  "metadata": {
    "colab": {
      "provenance": [],
      "mount_file_id": "1Z86zPEFu3Dg9P7_oFJdjlGY42nWnpT4L",
      "authorship_tag": "ABX9TyPmA3fkd1DqB/7oyGqynBXd"
    },
    "kernelspec": {
      "name": "python3",
      "display_name": "Python 3"
    },
    "language_info": {
      "name": "python"
    }
  },
  "cells": [
    {
      "cell_type": "markdown",
      "source": [
        "You are tasked with predicting the survival or passangers on the titanic based on various features such as age,sex,class,etc.Using the titanic dataset you will implement logistic regression to create a predictive model and evaluate its performance"
      ],
      "metadata": {
        "id": "R0JsrBxK8a7K"
      }
    },
    {
      "cell_type": "markdown",
      "source": [
        "Importing the dependencies"
      ],
      "metadata": {
        "id": "lrjirgc58W7s"
      }
    },
    {
      "cell_type": "code",
      "execution_count": null,
      "metadata": {
        "id": "U88x6Wbu7reb"
      },
      "outputs": [],
      "source": [
        "import numpy as np\n",
        "import pandas as pd\n",
        "import matplotlib.pyplot as plt\n",
        "import seaborn as sns\n",
        "from sklearn.model_selection import train_test_split\n",
        "from sklearn.linear_model import LogisticRegression\n",
        "from sklearn.metrics import accuracy_score"
      ]
    },
    {
      "cell_type": "markdown",
      "source": [
        "#DataSet collection"
      ],
      "metadata": {
        "id": "cuyxCXVL9m1E"
      }
    },
    {
      "cell_type": "code",
      "source": [
        "titanic_df = pd.read_csv('/content/train.csv')"
      ],
      "metadata": {
        "id": "Ok2_f1L38C3-"
      },
      "execution_count": 139,
      "outputs": []
    },
    {
      "cell_type": "code",
      "source": [
        "titanic_df.head()"
      ],
      "metadata": {
        "colab": {
          "base_uri": "https://localhost:8080/",
          "height": 206
        },
        "id": "IWiDHPH2N0QC",
        "outputId": "c9763aee-0bb2-488d-b710-d0158ae0bbbc"
      },
      "execution_count": null,
      "outputs": [
        {
          "output_type": "execute_result",
          "data": {
            "text/plain": [
              "   PassengerId  Survived  Pclass  \\\n",
              "0            1         0       3   \n",
              "1            2         1       1   \n",
              "2            3         1       3   \n",
              "3            4         1       1   \n",
              "4            5         0       3   \n",
              "\n",
              "                                                Name     Sex   Age  SibSp  \\\n",
              "0                            Braund, Mr. Owen Harris    male  22.0      1   \n",
              "1  Cumings, Mrs. John Bradley (Florence Briggs Th...  female  38.0      1   \n",
              "2                             Heikkinen, Miss. Laina  female  26.0      0   \n",
              "3       Futrelle, Mrs. Jacques Heath (Lily May Peel)  female  35.0      1   \n",
              "4                           Allen, Mr. William Henry    male  35.0      0   \n",
              "\n",
              "   Parch            Ticket     Fare Cabin Embarked  \n",
              "0      0         A/5 21171   7.2500   NaN        S  \n",
              "1      0          PC 17599  71.2833   C85        C  \n",
              "2      0  STON/O2. 3101282   7.9250   NaN        S  \n",
              "3      0            113803  53.1000  C123        S  \n",
              "4      0            373450   8.0500   NaN        S  "
            ],
            "text/html": [
              "\n",
              "  <div id=\"df-ae14c2a7-6c89-46c6-9c75-7ec5161c0b68\" class=\"colab-df-container\">\n",
              "    <div>\n",
              "<style scoped>\n",
              "    .dataframe tbody tr th:only-of-type {\n",
              "        vertical-align: middle;\n",
              "    }\n",
              "\n",
              "    .dataframe tbody tr th {\n",
              "        vertical-align: top;\n",
              "    }\n",
              "\n",
              "    .dataframe thead th {\n",
              "        text-align: right;\n",
              "    }\n",
              "</style>\n",
              "<table border=\"1\" class=\"dataframe\">\n",
              "  <thead>\n",
              "    <tr style=\"text-align: right;\">\n",
              "      <th></th>\n",
              "      <th>PassengerId</th>\n",
              "      <th>Survived</th>\n",
              "      <th>Pclass</th>\n",
              "      <th>Name</th>\n",
              "      <th>Sex</th>\n",
              "      <th>Age</th>\n",
              "      <th>SibSp</th>\n",
              "      <th>Parch</th>\n",
              "      <th>Ticket</th>\n",
              "      <th>Fare</th>\n",
              "      <th>Cabin</th>\n",
              "      <th>Embarked</th>\n",
              "    </tr>\n",
              "  </thead>\n",
              "  <tbody>\n",
              "    <tr>\n",
              "      <th>0</th>\n",
              "      <td>1</td>\n",
              "      <td>0</td>\n",
              "      <td>3</td>\n",
              "      <td>Braund, Mr. Owen Harris</td>\n",
              "      <td>male</td>\n",
              "      <td>22.0</td>\n",
              "      <td>1</td>\n",
              "      <td>0</td>\n",
              "      <td>A/5 21171</td>\n",
              "      <td>7.2500</td>\n",
              "      <td>NaN</td>\n",
              "      <td>S</td>\n",
              "    </tr>\n",
              "    <tr>\n",
              "      <th>1</th>\n",
              "      <td>2</td>\n",
              "      <td>1</td>\n",
              "      <td>1</td>\n",
              "      <td>Cumings, Mrs. John Bradley (Florence Briggs Th...</td>\n",
              "      <td>female</td>\n",
              "      <td>38.0</td>\n",
              "      <td>1</td>\n",
              "      <td>0</td>\n",
              "      <td>PC 17599</td>\n",
              "      <td>71.2833</td>\n",
              "      <td>C85</td>\n",
              "      <td>C</td>\n",
              "    </tr>\n",
              "    <tr>\n",
              "      <th>2</th>\n",
              "      <td>3</td>\n",
              "      <td>1</td>\n",
              "      <td>3</td>\n",
              "      <td>Heikkinen, Miss. Laina</td>\n",
              "      <td>female</td>\n",
              "      <td>26.0</td>\n",
              "      <td>0</td>\n",
              "      <td>0</td>\n",
              "      <td>STON/O2. 3101282</td>\n",
              "      <td>7.9250</td>\n",
              "      <td>NaN</td>\n",
              "      <td>S</td>\n",
              "    </tr>\n",
              "    <tr>\n",
              "      <th>3</th>\n",
              "      <td>4</td>\n",
              "      <td>1</td>\n",
              "      <td>1</td>\n",
              "      <td>Futrelle, Mrs. Jacques Heath (Lily May Peel)</td>\n",
              "      <td>female</td>\n",
              "      <td>35.0</td>\n",
              "      <td>1</td>\n",
              "      <td>0</td>\n",
              "      <td>113803</td>\n",
              "      <td>53.1000</td>\n",
              "      <td>C123</td>\n",
              "      <td>S</td>\n",
              "    </tr>\n",
              "    <tr>\n",
              "      <th>4</th>\n",
              "      <td>5</td>\n",
              "      <td>0</td>\n",
              "      <td>3</td>\n",
              "      <td>Allen, Mr. William Henry</td>\n",
              "      <td>male</td>\n",
              "      <td>35.0</td>\n",
              "      <td>0</td>\n",
              "      <td>0</td>\n",
              "      <td>373450</td>\n",
              "      <td>8.0500</td>\n",
              "      <td>NaN</td>\n",
              "      <td>S</td>\n",
              "    </tr>\n",
              "  </tbody>\n",
              "</table>\n",
              "</div>\n",
              "    <div class=\"colab-df-buttons\">\n",
              "\n",
              "  <div class=\"colab-df-container\">\n",
              "    <button class=\"colab-df-convert\" onclick=\"convertToInteractive('df-ae14c2a7-6c89-46c6-9c75-7ec5161c0b68')\"\n",
              "            title=\"Convert this dataframe to an interactive table.\"\n",
              "            style=\"display:none;\">\n",
              "\n",
              "  <svg xmlns=\"http://www.w3.org/2000/svg\" height=\"24px\" viewBox=\"0 -960 960 960\">\n",
              "    <path d=\"M120-120v-720h720v720H120Zm60-500h600v-160H180v160Zm220 220h160v-160H400v160Zm0 220h160v-160H400v160ZM180-400h160v-160H180v160Zm440 0h160v-160H620v160ZM180-180h160v-160H180v160Zm440 0h160v-160H620v160Z\"/>\n",
              "  </svg>\n",
              "    </button>\n",
              "\n",
              "  <style>\n",
              "    .colab-df-container {\n",
              "      display:flex;\n",
              "      gap: 12px;\n",
              "    }\n",
              "\n",
              "    .colab-df-convert {\n",
              "      background-color: #E8F0FE;\n",
              "      border: none;\n",
              "      border-radius: 50%;\n",
              "      cursor: pointer;\n",
              "      display: none;\n",
              "      fill: #1967D2;\n",
              "      height: 32px;\n",
              "      padding: 0 0 0 0;\n",
              "      width: 32px;\n",
              "    }\n",
              "\n",
              "    .colab-df-convert:hover {\n",
              "      background-color: #E2EBFA;\n",
              "      box-shadow: 0px 1px 2px rgba(60, 64, 67, 0.3), 0px 1px 3px 1px rgba(60, 64, 67, 0.15);\n",
              "      fill: #174EA6;\n",
              "    }\n",
              "\n",
              "    .colab-df-buttons div {\n",
              "      margin-bottom: 4px;\n",
              "    }\n",
              "\n",
              "    [theme=dark] .colab-df-convert {\n",
              "      background-color: #3B4455;\n",
              "      fill: #D2E3FC;\n",
              "    }\n",
              "\n",
              "    [theme=dark] .colab-df-convert:hover {\n",
              "      background-color: #434B5C;\n",
              "      box-shadow: 0px 1px 3px 1px rgba(0, 0, 0, 0.15);\n",
              "      filter: drop-shadow(0px 1px 2px rgba(0, 0, 0, 0.3));\n",
              "      fill: #FFFFFF;\n",
              "    }\n",
              "  </style>\n",
              "\n",
              "    <script>\n",
              "      const buttonEl =\n",
              "        document.querySelector('#df-ae14c2a7-6c89-46c6-9c75-7ec5161c0b68 button.colab-df-convert');\n",
              "      buttonEl.style.display =\n",
              "        google.colab.kernel.accessAllowed ? 'block' : 'none';\n",
              "\n",
              "      async function convertToInteractive(key) {\n",
              "        const element = document.querySelector('#df-ae14c2a7-6c89-46c6-9c75-7ec5161c0b68');\n",
              "        const dataTable =\n",
              "          await google.colab.kernel.invokeFunction('convertToInteractive',\n",
              "                                                    [key], {});\n",
              "        if (!dataTable) return;\n",
              "\n",
              "        const docLinkHtml = 'Like what you see? Visit the ' +\n",
              "          '<a target=\"_blank\" href=https://colab.research.google.com/notebooks/data_table.ipynb>data table notebook</a>'\n",
              "          + ' to learn more about interactive tables.';\n",
              "        element.innerHTML = '';\n",
              "        dataTable['output_type'] = 'display_data';\n",
              "        await google.colab.output.renderOutput(dataTable, element);\n",
              "        const docLink = document.createElement('div');\n",
              "        docLink.innerHTML = docLinkHtml;\n",
              "        element.appendChild(docLink);\n",
              "      }\n",
              "    </script>\n",
              "  </div>\n",
              "\n",
              "\n",
              "<div id=\"df-99d6b10a-f6de-44f8-b761-fa3852a87131\">\n",
              "  <button class=\"colab-df-quickchart\" onclick=\"quickchart('df-99d6b10a-f6de-44f8-b761-fa3852a87131')\"\n",
              "            title=\"Suggest charts\"\n",
              "            style=\"display:none;\">\n",
              "\n",
              "<svg xmlns=\"http://www.w3.org/2000/svg\" height=\"24px\"viewBox=\"0 0 24 24\"\n",
              "     width=\"24px\">\n",
              "    <g>\n",
              "        <path d=\"M19 3H5c-1.1 0-2 .9-2 2v14c0 1.1.9 2 2 2h14c1.1 0 2-.9 2-2V5c0-1.1-.9-2-2-2zM9 17H7v-7h2v7zm4 0h-2V7h2v10zm4 0h-2v-4h2v4z\"/>\n",
              "    </g>\n",
              "</svg>\n",
              "  </button>\n",
              "\n",
              "<style>\n",
              "  .colab-df-quickchart {\n",
              "      --bg-color: #E8F0FE;\n",
              "      --fill-color: #1967D2;\n",
              "      --hover-bg-color: #E2EBFA;\n",
              "      --hover-fill-color: #174EA6;\n",
              "      --disabled-fill-color: #AAA;\n",
              "      --disabled-bg-color: #DDD;\n",
              "  }\n",
              "\n",
              "  [theme=dark] .colab-df-quickchart {\n",
              "      --bg-color: #3B4455;\n",
              "      --fill-color: #D2E3FC;\n",
              "      --hover-bg-color: #434B5C;\n",
              "      --hover-fill-color: #FFFFFF;\n",
              "      --disabled-bg-color: #3B4455;\n",
              "      --disabled-fill-color: #666;\n",
              "  }\n",
              "\n",
              "  .colab-df-quickchart {\n",
              "    background-color: var(--bg-color);\n",
              "    border: none;\n",
              "    border-radius: 50%;\n",
              "    cursor: pointer;\n",
              "    display: none;\n",
              "    fill: var(--fill-color);\n",
              "    height: 32px;\n",
              "    padding: 0;\n",
              "    width: 32px;\n",
              "  }\n",
              "\n",
              "  .colab-df-quickchart:hover {\n",
              "    background-color: var(--hover-bg-color);\n",
              "    box-shadow: 0 1px 2px rgba(60, 64, 67, 0.3), 0 1px 3px 1px rgba(60, 64, 67, 0.15);\n",
              "    fill: var(--button-hover-fill-color);\n",
              "  }\n",
              "\n",
              "  .colab-df-quickchart-complete:disabled,\n",
              "  .colab-df-quickchart-complete:disabled:hover {\n",
              "    background-color: var(--disabled-bg-color);\n",
              "    fill: var(--disabled-fill-color);\n",
              "    box-shadow: none;\n",
              "  }\n",
              "\n",
              "  .colab-df-spinner {\n",
              "    border: 2px solid var(--fill-color);\n",
              "    border-color: transparent;\n",
              "    border-bottom-color: var(--fill-color);\n",
              "    animation:\n",
              "      spin 1s steps(1) infinite;\n",
              "  }\n",
              "\n",
              "  @keyframes spin {\n",
              "    0% {\n",
              "      border-color: transparent;\n",
              "      border-bottom-color: var(--fill-color);\n",
              "      border-left-color: var(--fill-color);\n",
              "    }\n",
              "    20% {\n",
              "      border-color: transparent;\n",
              "      border-left-color: var(--fill-color);\n",
              "      border-top-color: var(--fill-color);\n",
              "    }\n",
              "    30% {\n",
              "      border-color: transparent;\n",
              "      border-left-color: var(--fill-color);\n",
              "      border-top-color: var(--fill-color);\n",
              "      border-right-color: var(--fill-color);\n",
              "    }\n",
              "    40% {\n",
              "      border-color: transparent;\n",
              "      border-right-color: var(--fill-color);\n",
              "      border-top-color: var(--fill-color);\n",
              "    }\n",
              "    60% {\n",
              "      border-color: transparent;\n",
              "      border-right-color: var(--fill-color);\n",
              "    }\n",
              "    80% {\n",
              "      border-color: transparent;\n",
              "      border-right-color: var(--fill-color);\n",
              "      border-bottom-color: var(--fill-color);\n",
              "    }\n",
              "    90% {\n",
              "      border-color: transparent;\n",
              "      border-bottom-color: var(--fill-color);\n",
              "    }\n",
              "  }\n",
              "</style>\n",
              "\n",
              "  <script>\n",
              "    async function quickchart(key) {\n",
              "      const quickchartButtonEl =\n",
              "        document.querySelector('#' + key + ' button');\n",
              "      quickchartButtonEl.disabled = true;  // To prevent multiple clicks.\n",
              "      quickchartButtonEl.classList.add('colab-df-spinner');\n",
              "      try {\n",
              "        const charts = await google.colab.kernel.invokeFunction(\n",
              "            'suggestCharts', [key], {});\n",
              "      } catch (error) {\n",
              "        console.error('Error during call to suggestCharts:', error);\n",
              "      }\n",
              "      quickchartButtonEl.classList.remove('colab-df-spinner');\n",
              "      quickchartButtonEl.classList.add('colab-df-quickchart-complete');\n",
              "    }\n",
              "    (() => {\n",
              "      let quickchartButtonEl =\n",
              "        document.querySelector('#df-99d6b10a-f6de-44f8-b761-fa3852a87131 button');\n",
              "      quickchartButtonEl.style.display =\n",
              "        google.colab.kernel.accessAllowed ? 'block' : 'none';\n",
              "    })();\n",
              "  </script>\n",
              "</div>\n",
              "\n",
              "    </div>\n",
              "  </div>\n"
            ],
            "application/vnd.google.colaboratory.intrinsic+json": {
              "type": "dataframe",
              "variable_name": "titanic_df",
              "summary": "{\n  \"name\": \"titanic_df\",\n  \"rows\": 891,\n  \"fields\": [\n    {\n      \"column\": \"PassengerId\",\n      \"properties\": {\n        \"dtype\": \"number\",\n        \"std\": 257,\n        \"min\": 1,\n        \"max\": 891,\n        \"num_unique_values\": 891,\n        \"samples\": [\n          710,\n          440,\n          841\n        ],\n        \"semantic_type\": \"\",\n        \"description\": \"\"\n      }\n    },\n    {\n      \"column\": \"Survived\",\n      \"properties\": {\n        \"dtype\": \"number\",\n        \"std\": 0,\n        \"min\": 0,\n        \"max\": 1,\n        \"num_unique_values\": 2,\n        \"samples\": [\n          1,\n          0\n        ],\n        \"semantic_type\": \"\",\n        \"description\": \"\"\n      }\n    },\n    {\n      \"column\": \"Pclass\",\n      \"properties\": {\n        \"dtype\": \"number\",\n        \"std\": 0,\n        \"min\": 1,\n        \"max\": 3,\n        \"num_unique_values\": 3,\n        \"samples\": [\n          3,\n          1\n        ],\n        \"semantic_type\": \"\",\n        \"description\": \"\"\n      }\n    },\n    {\n      \"column\": \"Name\",\n      \"properties\": {\n        \"dtype\": \"string\",\n        \"num_unique_values\": 891,\n        \"samples\": [\n          \"Moubarek, Master. Halim Gonios (\\\"William George\\\")\",\n          \"Kvillner, Mr. Johan Henrik Johannesson\"\n        ],\n        \"semantic_type\": \"\",\n        \"description\": \"\"\n      }\n    },\n    {\n      \"column\": \"Sex\",\n      \"properties\": {\n        \"dtype\": \"category\",\n        \"num_unique_values\": 2,\n        \"samples\": [\n          \"female\",\n          \"male\"\n        ],\n        \"semantic_type\": \"\",\n        \"description\": \"\"\n      }\n    },\n    {\n      \"column\": \"Age\",\n      \"properties\": {\n        \"dtype\": \"number\",\n        \"std\": 14.526497332334042,\n        \"min\": 0.42,\n        \"max\": 80.0,\n        \"num_unique_values\": 88,\n        \"samples\": [\n          0.75,\n          22.0\n        ],\n        \"semantic_type\": \"\",\n        \"description\": \"\"\n      }\n    },\n    {\n      \"column\": \"SibSp\",\n      \"properties\": {\n        \"dtype\": \"number\",\n        \"std\": 1,\n        \"min\": 0,\n        \"max\": 8,\n        \"num_unique_values\": 7,\n        \"samples\": [\n          1,\n          0\n        ],\n        \"semantic_type\": \"\",\n        \"description\": \"\"\n      }\n    },\n    {\n      \"column\": \"Parch\",\n      \"properties\": {\n        \"dtype\": \"number\",\n        \"std\": 0,\n        \"min\": 0,\n        \"max\": 6,\n        \"num_unique_values\": 7,\n        \"samples\": [\n          0,\n          1\n        ],\n        \"semantic_type\": \"\",\n        \"description\": \"\"\n      }\n    },\n    {\n      \"column\": \"Ticket\",\n      \"properties\": {\n        \"dtype\": \"string\",\n        \"num_unique_values\": 681,\n        \"samples\": [\n          \"11774\",\n          \"248740\"\n        ],\n        \"semantic_type\": \"\",\n        \"description\": \"\"\n      }\n    },\n    {\n      \"column\": \"Fare\",\n      \"properties\": {\n        \"dtype\": \"number\",\n        \"std\": 49.6934285971809,\n        \"min\": 0.0,\n        \"max\": 512.3292,\n        \"num_unique_values\": 248,\n        \"samples\": [\n          11.2417,\n          51.8625\n        ],\n        \"semantic_type\": \"\",\n        \"description\": \"\"\n      }\n    },\n    {\n      \"column\": \"Cabin\",\n      \"properties\": {\n        \"dtype\": \"category\",\n        \"num_unique_values\": 147,\n        \"samples\": [\n          \"D45\",\n          \"B49\"\n        ],\n        \"semantic_type\": \"\",\n        \"description\": \"\"\n      }\n    },\n    {\n      \"column\": \"Embarked\",\n      \"properties\": {\n        \"dtype\": \"category\",\n        \"num_unique_values\": 3,\n        \"samples\": [\n          \"S\",\n          \"C\"\n        ],\n        \"semantic_type\": \"\",\n        \"description\": \"\"\n      }\n    }\n  ]\n}"
            }
          },
          "metadata": {},
          "execution_count": 67
        }
      ]
    },
    {
      "cell_type": "markdown",
      "source": [
        "<br>**Survival**: Indicates whether the passenger survived (0 = No, 1 = Yes)\n",
        "<br>**Pclass**: Ticket class (1 = 1st, 2 = 2nd, 3 = 3rd)\n",
        "<br>**Sex**: Gender of the passenger\n",
        "<br>**Age**: Age of the passenger in years\n",
        "<br>**SibSp**: Number of siblings or spouses aboard the Titanic\n",
        "<br>**Parch**: Number of parents or children aboard the Titanic\n",
        "<br>**Ticket**: Ticket number\n",
        "<br>**Fare**: Passenger fare\n",
        "<br>**Cabin**: Cabin number\n",
        "<br>**Embarked**: Port of Embarkation:in which port the passanger has boarded the ship.C = Cherbourg, Q = Queenstown, S = Southampton"
      ],
      "metadata": {
        "id": "dxdmPRBuO6XK"
      }
    },
    {
      "cell_type": "code",
      "source": [
        "titanic_df.shape"
      ],
      "metadata": {
        "colab": {
          "base_uri": "https://localhost:8080/"
        },
        "id": "YZpLZeY-N6Sf",
        "outputId": "0ae05e58-5623-4d6d-fed3-9ea563a61b80"
      },
      "execution_count": null,
      "outputs": [
        {
          "output_type": "execute_result",
          "data": {
            "text/plain": [
              "(891, 12)"
            ]
          },
          "metadata": {},
          "execution_count": 68
        }
      ]
    },
    {
      "cell_type": "markdown",
      "source": [
        "891 passangers"
      ],
      "metadata": {
        "id": "uJuF48tGPeL-"
      }
    },
    {
      "cell_type": "code",
      "source": [
        "titanic_df.info()"
      ],
      "metadata": {
        "colab": {
          "base_uri": "https://localhost:8080/"
        },
        "id": "0k7I3YTMPaO7",
        "outputId": "04d8396e-1b48-4543-f086-691afde36e97"
      },
      "execution_count": null,
      "outputs": [
        {
          "output_type": "stream",
          "name": "stdout",
          "text": [
            "<class 'pandas.core.frame.DataFrame'>\n",
            "RangeIndex: 891 entries, 0 to 890\n",
            "Data columns (total 12 columns):\n",
            " #   Column       Non-Null Count  Dtype  \n",
            "---  ------       --------------  -----  \n",
            " 0   PassengerId  891 non-null    int64  \n",
            " 1   Survived     891 non-null    int64  \n",
            " 2   Pclass       891 non-null    int64  \n",
            " 3   Name         891 non-null    object \n",
            " 4   Sex          891 non-null    object \n",
            " 5   Age          714 non-null    float64\n",
            " 6   SibSp        891 non-null    int64  \n",
            " 7   Parch        891 non-null    int64  \n",
            " 8   Ticket       891 non-null    object \n",
            " 9   Fare         891 non-null    float64\n",
            " 10  Cabin        204 non-null    object \n",
            " 11  Embarked     889 non-null    object \n",
            "dtypes: float64(2), int64(5), object(5)\n",
            "memory usage: 83.7+ KB\n"
          ]
        }
      ]
    },
    {
      "cell_type": "markdown",
      "source": [
        "#Exploratory Data Analysis"
      ],
      "metadata": {
        "id": "L7abL4XBR0Cb"
      }
    },
    {
      "cell_type": "code",
      "source": [
        "titanic_df[['Age', 'Fare']].describe()"
      ],
      "metadata": {
        "colab": {
          "base_uri": "https://localhost:8080/",
          "height": 300
        },
        "id": "JGIBJL91Rnyl",
        "outputId": "e03f38b3-b047-4577-f87f-b2b2d5d65fc8"
      },
      "execution_count": null,
      "outputs": [
        {
          "output_type": "execute_result",
          "data": {
            "text/plain": [
              "              Age        Fare\n",
              "count  714.000000  891.000000\n",
              "mean    29.699118   32.204208\n",
              "std     14.526497   49.693429\n",
              "min      0.420000    0.000000\n",
              "25%     20.125000    7.910400\n",
              "50%     28.000000   14.454200\n",
              "75%     38.000000   31.000000\n",
              "max     80.000000  512.329200"
            ],
            "text/html": [
              "\n",
              "  <div id=\"df-49cb492d-7b15-4f7e-8a0c-a82f9fd7dfb5\" class=\"colab-df-container\">\n",
              "    <div>\n",
              "<style scoped>\n",
              "    .dataframe tbody tr th:only-of-type {\n",
              "        vertical-align: middle;\n",
              "    }\n",
              "\n",
              "    .dataframe tbody tr th {\n",
              "        vertical-align: top;\n",
              "    }\n",
              "\n",
              "    .dataframe thead th {\n",
              "        text-align: right;\n",
              "    }\n",
              "</style>\n",
              "<table border=\"1\" class=\"dataframe\">\n",
              "  <thead>\n",
              "    <tr style=\"text-align: right;\">\n",
              "      <th></th>\n",
              "      <th>Age</th>\n",
              "      <th>Fare</th>\n",
              "    </tr>\n",
              "  </thead>\n",
              "  <tbody>\n",
              "    <tr>\n",
              "      <th>count</th>\n",
              "      <td>714.000000</td>\n",
              "      <td>891.000000</td>\n",
              "    </tr>\n",
              "    <tr>\n",
              "      <th>mean</th>\n",
              "      <td>29.699118</td>\n",
              "      <td>32.204208</td>\n",
              "    </tr>\n",
              "    <tr>\n",
              "      <th>std</th>\n",
              "      <td>14.526497</td>\n",
              "      <td>49.693429</td>\n",
              "    </tr>\n",
              "    <tr>\n",
              "      <th>min</th>\n",
              "      <td>0.420000</td>\n",
              "      <td>0.000000</td>\n",
              "    </tr>\n",
              "    <tr>\n",
              "      <th>25%</th>\n",
              "      <td>20.125000</td>\n",
              "      <td>7.910400</td>\n",
              "    </tr>\n",
              "    <tr>\n",
              "      <th>50%</th>\n",
              "      <td>28.000000</td>\n",
              "      <td>14.454200</td>\n",
              "    </tr>\n",
              "    <tr>\n",
              "      <th>75%</th>\n",
              "      <td>38.000000</td>\n",
              "      <td>31.000000</td>\n",
              "    </tr>\n",
              "    <tr>\n",
              "      <th>max</th>\n",
              "      <td>80.000000</td>\n",
              "      <td>512.329200</td>\n",
              "    </tr>\n",
              "  </tbody>\n",
              "</table>\n",
              "</div>\n",
              "    <div class=\"colab-df-buttons\">\n",
              "\n",
              "  <div class=\"colab-df-container\">\n",
              "    <button class=\"colab-df-convert\" onclick=\"convertToInteractive('df-49cb492d-7b15-4f7e-8a0c-a82f9fd7dfb5')\"\n",
              "            title=\"Convert this dataframe to an interactive table.\"\n",
              "            style=\"display:none;\">\n",
              "\n",
              "  <svg xmlns=\"http://www.w3.org/2000/svg\" height=\"24px\" viewBox=\"0 -960 960 960\">\n",
              "    <path d=\"M120-120v-720h720v720H120Zm60-500h600v-160H180v160Zm220 220h160v-160H400v160Zm0 220h160v-160H400v160ZM180-400h160v-160H180v160Zm440 0h160v-160H620v160ZM180-180h160v-160H180v160Zm440 0h160v-160H620v160Z\"/>\n",
              "  </svg>\n",
              "    </button>\n",
              "\n",
              "  <style>\n",
              "    .colab-df-container {\n",
              "      display:flex;\n",
              "      gap: 12px;\n",
              "    }\n",
              "\n",
              "    .colab-df-convert {\n",
              "      background-color: #E8F0FE;\n",
              "      border: none;\n",
              "      border-radius: 50%;\n",
              "      cursor: pointer;\n",
              "      display: none;\n",
              "      fill: #1967D2;\n",
              "      height: 32px;\n",
              "      padding: 0 0 0 0;\n",
              "      width: 32px;\n",
              "    }\n",
              "\n",
              "    .colab-df-convert:hover {\n",
              "      background-color: #E2EBFA;\n",
              "      box-shadow: 0px 1px 2px rgba(60, 64, 67, 0.3), 0px 1px 3px 1px rgba(60, 64, 67, 0.15);\n",
              "      fill: #174EA6;\n",
              "    }\n",
              "\n",
              "    .colab-df-buttons div {\n",
              "      margin-bottom: 4px;\n",
              "    }\n",
              "\n",
              "    [theme=dark] .colab-df-convert {\n",
              "      background-color: #3B4455;\n",
              "      fill: #D2E3FC;\n",
              "    }\n",
              "\n",
              "    [theme=dark] .colab-df-convert:hover {\n",
              "      background-color: #434B5C;\n",
              "      box-shadow: 0px 1px 3px 1px rgba(0, 0, 0, 0.15);\n",
              "      filter: drop-shadow(0px 1px 2px rgba(0, 0, 0, 0.3));\n",
              "      fill: #FFFFFF;\n",
              "    }\n",
              "  </style>\n",
              "\n",
              "    <script>\n",
              "      const buttonEl =\n",
              "        document.querySelector('#df-49cb492d-7b15-4f7e-8a0c-a82f9fd7dfb5 button.colab-df-convert');\n",
              "      buttonEl.style.display =\n",
              "        google.colab.kernel.accessAllowed ? 'block' : 'none';\n",
              "\n",
              "      async function convertToInteractive(key) {\n",
              "        const element = document.querySelector('#df-49cb492d-7b15-4f7e-8a0c-a82f9fd7dfb5');\n",
              "        const dataTable =\n",
              "          await google.colab.kernel.invokeFunction('convertToInteractive',\n",
              "                                                    [key], {});\n",
              "        if (!dataTable) return;\n",
              "\n",
              "        const docLinkHtml = 'Like what you see? Visit the ' +\n",
              "          '<a target=\"_blank\" href=https://colab.research.google.com/notebooks/data_table.ipynb>data table notebook</a>'\n",
              "          + ' to learn more about interactive tables.';\n",
              "        element.innerHTML = '';\n",
              "        dataTable['output_type'] = 'display_data';\n",
              "        await google.colab.output.renderOutput(dataTable, element);\n",
              "        const docLink = document.createElement('div');\n",
              "        docLink.innerHTML = docLinkHtml;\n",
              "        element.appendChild(docLink);\n",
              "      }\n",
              "    </script>\n",
              "  </div>\n",
              "\n",
              "\n",
              "<div id=\"df-2d07453b-83ec-43be-bfde-8c617e1559ed\">\n",
              "  <button class=\"colab-df-quickchart\" onclick=\"quickchart('df-2d07453b-83ec-43be-bfde-8c617e1559ed')\"\n",
              "            title=\"Suggest charts\"\n",
              "            style=\"display:none;\">\n",
              "\n",
              "<svg xmlns=\"http://www.w3.org/2000/svg\" height=\"24px\"viewBox=\"0 0 24 24\"\n",
              "     width=\"24px\">\n",
              "    <g>\n",
              "        <path d=\"M19 3H5c-1.1 0-2 .9-2 2v14c0 1.1.9 2 2 2h14c1.1 0 2-.9 2-2V5c0-1.1-.9-2-2-2zM9 17H7v-7h2v7zm4 0h-2V7h2v10zm4 0h-2v-4h2v4z\"/>\n",
              "    </g>\n",
              "</svg>\n",
              "  </button>\n",
              "\n",
              "<style>\n",
              "  .colab-df-quickchart {\n",
              "      --bg-color: #E8F0FE;\n",
              "      --fill-color: #1967D2;\n",
              "      --hover-bg-color: #E2EBFA;\n",
              "      --hover-fill-color: #174EA6;\n",
              "      --disabled-fill-color: #AAA;\n",
              "      --disabled-bg-color: #DDD;\n",
              "  }\n",
              "\n",
              "  [theme=dark] .colab-df-quickchart {\n",
              "      --bg-color: #3B4455;\n",
              "      --fill-color: #D2E3FC;\n",
              "      --hover-bg-color: #434B5C;\n",
              "      --hover-fill-color: #FFFFFF;\n",
              "      --disabled-bg-color: #3B4455;\n",
              "      --disabled-fill-color: #666;\n",
              "  }\n",
              "\n",
              "  .colab-df-quickchart {\n",
              "    background-color: var(--bg-color);\n",
              "    border: none;\n",
              "    border-radius: 50%;\n",
              "    cursor: pointer;\n",
              "    display: none;\n",
              "    fill: var(--fill-color);\n",
              "    height: 32px;\n",
              "    padding: 0;\n",
              "    width: 32px;\n",
              "  }\n",
              "\n",
              "  .colab-df-quickchart:hover {\n",
              "    background-color: var(--hover-bg-color);\n",
              "    box-shadow: 0 1px 2px rgba(60, 64, 67, 0.3), 0 1px 3px 1px rgba(60, 64, 67, 0.15);\n",
              "    fill: var(--button-hover-fill-color);\n",
              "  }\n",
              "\n",
              "  .colab-df-quickchart-complete:disabled,\n",
              "  .colab-df-quickchart-complete:disabled:hover {\n",
              "    background-color: var(--disabled-bg-color);\n",
              "    fill: var(--disabled-fill-color);\n",
              "    box-shadow: none;\n",
              "  }\n",
              "\n",
              "  .colab-df-spinner {\n",
              "    border: 2px solid var(--fill-color);\n",
              "    border-color: transparent;\n",
              "    border-bottom-color: var(--fill-color);\n",
              "    animation:\n",
              "      spin 1s steps(1) infinite;\n",
              "  }\n",
              "\n",
              "  @keyframes spin {\n",
              "    0% {\n",
              "      border-color: transparent;\n",
              "      border-bottom-color: var(--fill-color);\n",
              "      border-left-color: var(--fill-color);\n",
              "    }\n",
              "    20% {\n",
              "      border-color: transparent;\n",
              "      border-left-color: var(--fill-color);\n",
              "      border-top-color: var(--fill-color);\n",
              "    }\n",
              "    30% {\n",
              "      border-color: transparent;\n",
              "      border-left-color: var(--fill-color);\n",
              "      border-top-color: var(--fill-color);\n",
              "      border-right-color: var(--fill-color);\n",
              "    }\n",
              "    40% {\n",
              "      border-color: transparent;\n",
              "      border-right-color: var(--fill-color);\n",
              "      border-top-color: var(--fill-color);\n",
              "    }\n",
              "    60% {\n",
              "      border-color: transparent;\n",
              "      border-right-color: var(--fill-color);\n",
              "    }\n",
              "    80% {\n",
              "      border-color: transparent;\n",
              "      border-right-color: var(--fill-color);\n",
              "      border-bottom-color: var(--fill-color);\n",
              "    }\n",
              "    90% {\n",
              "      border-color: transparent;\n",
              "      border-bottom-color: var(--fill-color);\n",
              "    }\n",
              "  }\n",
              "</style>\n",
              "\n",
              "  <script>\n",
              "    async function quickchart(key) {\n",
              "      const quickchartButtonEl =\n",
              "        document.querySelector('#' + key + ' button');\n",
              "      quickchartButtonEl.disabled = true;  // To prevent multiple clicks.\n",
              "      quickchartButtonEl.classList.add('colab-df-spinner');\n",
              "      try {\n",
              "        const charts = await google.colab.kernel.invokeFunction(\n",
              "            'suggestCharts', [key], {});\n",
              "      } catch (error) {\n",
              "        console.error('Error during call to suggestCharts:', error);\n",
              "      }\n",
              "      quickchartButtonEl.classList.remove('colab-df-spinner');\n",
              "      quickchartButtonEl.classList.add('colab-df-quickchart-complete');\n",
              "    }\n",
              "    (() => {\n",
              "      let quickchartButtonEl =\n",
              "        document.querySelector('#df-2d07453b-83ec-43be-bfde-8c617e1559ed button');\n",
              "      quickchartButtonEl.style.display =\n",
              "        google.colab.kernel.accessAllowed ? 'block' : 'none';\n",
              "    })();\n",
              "  </script>\n",
              "</div>\n",
              "\n",
              "    </div>\n",
              "  </div>\n"
            ],
            "application/vnd.google.colaboratory.intrinsic+json": {
              "type": "dataframe",
              "summary": "{\n  \"name\": \"titanic_df[['Age', 'Fare']]\",\n  \"rows\": 8,\n  \"fields\": [\n    {\n      \"column\": \"Age\",\n      \"properties\": {\n        \"dtype\": \"number\",\n        \"std\": 242.9056731818781,\n        \"min\": 0.42,\n        \"max\": 714.0,\n        \"num_unique_values\": 8,\n        \"samples\": [\n          29.69911764705882,\n          28.0,\n          714.0\n        ],\n        \"semantic_type\": \"\",\n        \"description\": \"\"\n      }\n    },\n    {\n      \"column\": \"Fare\",\n      \"properties\": {\n        \"dtype\": \"number\",\n        \"std\": 330.6256632228578,\n        \"min\": 0.0,\n        \"max\": 891.0,\n        \"num_unique_values\": 8,\n        \"samples\": [\n          32.204207968574636,\n          14.4542,\n          891.0\n        ],\n        \"semantic_type\": \"\",\n        \"description\": \"\"\n      }\n    }\n  ]\n}"
            }
          },
          "metadata": {},
          "execution_count": 70
        }
      ]
    },
    {
      "cell_type": "code",
      "source": [
        "titanic_df['Survived'].value_counts()"
      ],
      "metadata": {
        "colab": {
          "base_uri": "https://localhost:8080/"
        },
        "id": "RlRKTOAbSZB1",
        "outputId": "77028c0d-2431-41de-d15a-1f8bac04e4b9"
      },
      "execution_count": null,
      "outputs": [
        {
          "output_type": "execute_result",
          "data": {
            "text/plain": [
              "Survived\n",
              "0    549\n",
              "1    342\n",
              "Name: count, dtype: int64"
            ]
          },
          "metadata": {},
          "execution_count": 71
        }
      ]
    },
    {
      "cell_type": "code",
      "source": [
        "sns.set()"
      ],
      "metadata": {
        "id": "VFrokHEZSh4p"
      },
      "execution_count": null,
      "outputs": []
    },
    {
      "cell_type": "code",
      "source": [
        "#making a count plot for survived column\n",
        "sns.countplot(x='Survived', data=titanic_df,hue='Survived')"
      ],
      "metadata": {
        "colab": {
          "base_uri": "https://localhost:8080/",
          "height": 475
        },
        "id": "w27BHnxZT1L8",
        "outputId": "64968b31-f891-4705-e88d-02c753a50bc0"
      },
      "execution_count": null,
      "outputs": [
        {
          "output_type": "execute_result",
          "data": {
            "text/plain": [
              "<Axes: xlabel='Survived', ylabel='count'>"
            ]
          },
          "metadata": {},
          "execution_count": 73
        },
        {
          "output_type": "display_data",
          "data": {
            "text/plain": [
              "<Figure size 640x480 with 1 Axes>"
            ],
            "image/png": "[encoded data removed]"
          },
          "metadata": {}
        }
      ]
    },
    {
      "cell_type": "code",
      "source": [
        "sns.countplot(x='Sex',data=titanic_df,hue='Sex')"
      ],
      "metadata": {
        "colab": {
          "base_uri": "https://localhost:8080/",
          "height": 477
        },
        "id": "uxL75RaAT9rI",
        "outputId": "5eb2be73-98c4-43fe-f3a7-b01419cf17f6"
      },
      "execution_count": null,
      "outputs": [
        {
          "output_type": "execute_result",
          "data": {
            "text/plain": [
              "<Axes: xlabel='Sex', ylabel='count'>"
            ]
          },
          "metadata": {},
          "execution_count": 74
        },
        {
          "output_type": "display_data",
          "data": {
            "text/plain": [
              "<Figure size 640x480 with 1 Axes>"
            ],
            "image/png": "[encoded data removed]"
          },
          "metadata": {}
        }
      ]
    },
    {
      "cell_type": "code",
      "source": [
        "#No of survivors gendervise\n",
        "sns.countplot(x='Sex',data=titanic_df,hue='Survived')"
      ],
      "metadata": {
        "colab": {
          "base_uri": "https://localhost:8080/",
          "height": 475
        },
        "id": "GmA4BnVuVx0x",
        "outputId": "47d2e0e4-f48f-4d7e-eb06-db5cd988f7fa"
      },
      "execution_count": null,
      "outputs": [
        {
          "output_type": "execute_result",
          "data": {
            "text/plain": [
              "<Axes: xlabel='Sex', ylabel='count'>"
            ]
          },
          "metadata": {},
          "execution_count": 75
        },
        {
          "output_type": "display_data",
          "data": {
            "text/plain": [
              "<Figure size 640x480 with 1 Axes>"
            ],
            "image/png": "[encoded data removed]"
          },
          "metadata": {}
        }
      ]
    },
    {
      "cell_type": "markdown",
      "source": [
        "females are given more priority to be saved"
      ],
      "metadata": {
        "id": "QL7rvR9bWMwe"
      }
    },
    {
      "cell_type": "code",
      "source": [
        "sns.countplot(x='Pclass',data=titanic_df,hue='Survived')"
      ],
      "metadata": {
        "colab": {
          "base_uri": "https://localhost:8080/",
          "height": 475
        },
        "id": "NBuFAAj6V_5v",
        "outputId": "29091529-9cee-4adf-d416-7a29e6f0aa65"
      },
      "execution_count": null,
      "outputs": [
        {
          "output_type": "execute_result",
          "data": {
            "text/plain": [
              "<Axes: xlabel='Pclass', ylabel='count'>"
            ]
          },
          "metadata": {},
          "execution_count": 76
        },
        {
          "output_type": "display_data",
          "data": {
            "text/plain": [
              "<Figure size 640x480 with 1 Axes>"
            ],
            "image/png": "[encoded data removed]"
          },
          "metadata": {}
        }
      ]
    },
    {
      "cell_type": "markdown",
      "source": [
        "more no of people frm first class survived as compared to other classes"
      ],
      "metadata": {
        "id": "KaAPoo0dWadi"
      }
    },
    {
      "cell_type": "markdown",
      "source": [
        "#Data Preprocessing"
      ],
      "metadata": {
        "id": "fBm8y43TX4yk"
      }
    },
    {
      "cell_type": "code",
      "source": [
        "titanic_df.isnull().sum()"
      ],
      "metadata": {
        "colab": {
          "base_uri": "https://localhost:8080/"
        },
        "id": "fzMQnalLPjYT",
        "outputId": "2f3be3a7-b8b6-4522-8d03-0176e7de2d54"
      },
      "execution_count": null,
      "outputs": [
        {
          "output_type": "execute_result",
          "data": {
            "text/plain": [
              "PassengerId      0\n",
              "Survived         0\n",
              "Pclass           0\n",
              "Name             0\n",
              "Sex              0\n",
              "Age            177\n",
              "SibSp            0\n",
              "Parch            0\n",
              "Ticket           0\n",
              "Fare             0\n",
              "Cabin          687\n",
              "Embarked         2\n",
              "dtype: int64"
            ]
          },
          "metadata": {},
          "execution_count": 77
        }
      ]
    },
    {
      "cell_type": "markdown",
      "source": [
        "there are missing values in age and cabin column and only 2 values missing in Embarked"
      ],
      "metadata": {
        "id": "PWD1VYP2Pu1c"
      }
    },
    {
      "cell_type": "markdown",
      "source": [
        "Handling the missing values"
      ],
      "metadata": {
        "id": "btgG1TWmP2iH"
      }
    },
    {
      "cell_type": "code",
      "source": [
        "#im cabin as majority of values are missing so we need to drop it from the dataframe\n",
        "titanic_df = titanic_df.drop(columns = 'Cabin',axis=1)"
      ],
      "metadata": {
        "id": "5_2J7-DLPrWE"
      },
      "execution_count": null,
      "outputs": []
    },
    {
      "cell_type": "code",
      "source": [
        "#Replacing the missing values in age column with mean value of that column\n",
        "titanic_df['Age'].fillna(titanic_df['Age'].mean(), inplace=True)"
      ],
      "metadata": {
        "id": "kdSXzM1bQMD6"
      },
      "execution_count": null,
      "outputs": []
    },
    {
      "cell_type": "code",
      "source": [
        "#for Embarked colmn we will replace the missing values with the mode values. i.e the value that is repeated most number of time\n",
        "print(titanic_df['Embarked'].mode())"
      ],
      "metadata": {
        "colab": {
          "base_uri": "https://localhost:8080/"
        },
        "id": "NORimU3lQrJt",
        "outputId": "35c99be4-7fc8-4595-f6db-9302938e8ebb"
      },
      "execution_count": null,
      "outputs": [
        {
          "output_type": "stream",
          "name": "stdout",
          "text": [
            "0    S\n",
            "Name: Embarked, dtype: object\n"
          ]
        }
      ]
    },
    {
      "cell_type": "markdown",
      "source": [
        "it has index 0"
      ],
      "metadata": {
        "id": "yyZ9zSiYRRli"
      }
    },
    {
      "cell_type": "markdown",
      "source": [
        "value S is repeated most number of time"
      ],
      "metadata": {
        "id": "VLA7o9S7RKk2"
      }
    },
    {
      "cell_type": "code",
      "source": [
        "#replacing the missing vlaues in embarked column with mode vlaue\n",
        "titanic_df['Embarked'].fillna(titanic_df['Embarked'].mode()[0],inplace = True)"
      ],
      "metadata": {
        "id": "fu5gxA6_RI81"
      },
      "execution_count": null,
      "outputs": []
    },
    {
      "cell_type": "code",
      "source": [
        "titanic_df.isnull().sum()"
      ],
      "metadata": {
        "colab": {
          "base_uri": "https://localhost:8080/"
        },
        "id": "EwOZtl0TRip2",
        "outputId": "93ae803d-5163-419f-f338-e98c8a12e936"
      },
      "execution_count": null,
      "outputs": [
        {
          "output_type": "execute_result",
          "data": {
            "text/plain": [
              "PassengerId    0\n",
              "Survived       0\n",
              "Pclass         0\n",
              "Name           0\n",
              "Sex            0\n",
              "Age            0\n",
              "SibSp          0\n",
              "Parch          0\n",
              "Ticket         0\n",
              "Fare           0\n",
              "Embarked       0\n",
              "dtype: int64"
            ]
          },
          "metadata": {},
          "execution_count": 83
        }
      ]
    },
    {
      "cell_type": "markdown",
      "source": [
        "Converting Categoral values into numerical forms"
      ],
      "metadata": {
        "id": "ZonqZE4DYFAU"
      }
    },
    {
      "cell_type": "code",
      "source": [
        "#We do not need the name column\n",
        "titanic_df = titanic_df.drop(columns = 'Name',axis=1)"
      ],
      "metadata": {
        "id": "HFWNyAb0X-Ku"
      },
      "execution_count": null,
      "outputs": []
    },
    {
      "cell_type": "code",
      "source": [
        "titanic_df.head()"
      ],
      "metadata": {
        "colab": {
          "base_uri": "https://localhost:8080/",
          "height": 206
        },
        "id": "Zp4blwt6YY7t",
        "outputId": "5c747ea7-f8e3-4d80-e86c-9886b3e121a0"
      },
      "execution_count": null,
      "outputs": [
        {
          "output_type": "execute_result",
          "data": {
            "text/plain": [
              "   PassengerId  Survived  Pclass     Sex   Age  SibSp  Parch  \\\n",
              "0            1         0       3    male  22.0      1      0   \n",
              "1            2         1       1  female  38.0      1      0   \n",
              "2            3         1       3  female  26.0      0      0   \n",
              "3            4         1       1  female  35.0      1      0   \n",
              "4            5         0       3    male  35.0      0      0   \n",
              "\n",
              "             Ticket     Fare Embarked  \n",
              "0         A/5 21171   7.2500        S  \n",
              "1          PC 17599  71.2833        C  \n",
              "2  STON/O2. 3101282   7.9250        S  \n",
              "3            113803  53.1000        S  \n",
              "4            373450   8.0500        S  "
            ],
            "text/html": [
              "\n",
              "  <div id=\"df-7e1dd203-98df-469e-9715-7429043ccc84\" class=\"colab-df-container\">\n",
              "    <div>\n",
              "<style scoped>\n",
              "    .dataframe tbody tr th:only-of-type {\n",
              "        vertical-align: middle;\n",
              "    }\n",
              "\n",
              "    .dataframe tbody tr th {\n",
              "        vertical-align: top;\n",
              "    }\n",
              "\n",
              "    .dataframe thead th {\n",
              "        text-align: right;\n",
              "    }\n",
              "</style>\n",
              "<table border=\"1\" class=\"dataframe\">\n",
              "  <thead>\n",
              "    <tr style=\"text-align: right;\">\n",
              "      <th></th>\n",
              "      <th>PassengerId</th>\n",
              "      <th>Survived</th>\n",
              "      <th>Pclass</th>\n",
              "      <th>Sex</th>\n",
              "      <th>Age</th>\n",
              "      <th>SibSp</th>\n",
              "      <th>Parch</th>\n",
              "      <th>Ticket</th>\n",
              "      <th>Fare</th>\n",
              "      <th>Embarked</th>\n",
              "    </tr>\n",
              "  </thead>\n",
              "  <tbody>\n",
              "    <tr>\n",
              "      <th>0</th>\n",
              "      <td>1</td>\n",
              "      <td>0</td>\n",
              "      <td>3</td>\n",
              "      <td>male</td>\n",
              "      <td>22.0</td>\n",
              "      <td>1</td>\n",
              "      <td>0</td>\n",
              "      <td>A/5 21171</td>\n",
              "      <td>7.2500</td>\n",
              "      <td>S</td>\n",
              "    </tr>\n",
              "    <tr>\n",
              "      <th>1</th>\n",
              "      <td>2</td>\n",
              "      <td>1</td>\n",
              "      <td>1</td>\n",
              "      <td>female</td>\n",
              "      <td>38.0</td>\n",
              "      <td>1</td>\n",
              "      <td>0</td>\n",
              "      <td>PC 17599</td>\n",
              "      <td>71.2833</td>\n",
              "      <td>C</td>\n",
              "    </tr>\n",
              "    <tr>\n",
              "      <th>2</th>\n",
              "      <td>3</td>\n",
              "      <td>1</td>\n",
              "      <td>3</td>\n",
              "      <td>female</td>\n",
              "      <td>26.0</td>\n",
              "      <td>0</td>\n",
              "      <td>0</td>\n",
              "      <td>STON/O2. 3101282</td>\n",
              "      <td>7.9250</td>\n",
              "      <td>S</td>\n",
              "    </tr>\n",
              "    <tr>\n",
              "      <th>3</th>\n",
              "      <td>4</td>\n",
              "      <td>1</td>\n",
              "      <td>1</td>\n",
              "      <td>female</td>\n",
              "      <td>35.0</td>\n",
              "      <td>1</td>\n",
              "      <td>0</td>\n",
              "      <td>113803</td>\n",
              "      <td>53.1000</td>\n",
              "      <td>S</td>\n",
              "    </tr>\n",
              "    <tr>\n",
              "      <th>4</th>\n",
              "      <td>5</td>\n",
              "      <td>0</td>\n",
              "      <td>3</td>\n",
              "      <td>male</td>\n",
              "      <td>35.0</td>\n",
              "      <td>0</td>\n",
              "      <td>0</td>\n",
              "      <td>373450</td>\n",
              "      <td>8.0500</td>\n",
              "      <td>S</td>\n",
              "    </tr>\n",
              "  </tbody>\n",
              "</table>\n",
              "</div>\n",
              "    <div class=\"colab-df-buttons\">\n",
              "\n",
              "  <div class=\"colab-df-container\">\n",
              "    <button class=\"colab-df-convert\" onclick=\"convertToInteractive('df-7e1dd203-98df-469e-9715-7429043ccc84')\"\n",
              "            title=\"Convert this dataframe to an interactive table.\"\n",
              "            style=\"display:none;\">\n",
              "\n",
              "  <svg xmlns=\"http://www.w3.org/2000/svg\" height=\"24px\" viewBox=\"0 -960 960 960\">\n",
              "    <path d=\"M120-120v-720h720v720H120Zm60-500h600v-160H180v160Zm220 220h160v-160H400v160Zm0 220h160v-160H400v160ZM180-400h160v-160H180v160Zm440 0h160v-160H620v160ZM180-180h160v-160H180v160Zm440 0h160v-160H620v160Z\"/>\n",
              "  </svg>\n",
              "    </button>\n",
              "\n",
              "  <style>\n",
              "    .colab-df-container {\n",
              "      display:flex;\n",
              "      gap: 12px;\n",
              "    }\n",
              "\n",
              "    .colab-df-convert {\n",
              "      background-color: #E8F0FE;\n",
              "      border: none;\n",
              "      border-radius: 50%;\n",
              "      cursor: pointer;\n",
              "      display: none;\n",
              "      fill: #1967D2;\n",
              "      height: 32px;\n",
              "      padding: 0 0 0 0;\n",
              "      width: 32px;\n",
              "    }\n",
              "\n",
              "    .colab-df-convert:hover {\n",
              "      background-color: #E2EBFA;\n",
              "      box-shadow: 0px 1px 2px rgba(60, 64, 67, 0.3), 0px 1px 3px 1px rgba(60, 64, 67, 0.15);\n",
              "      fill: #174EA6;\n",
              "    }\n",
              "\n",
              "    .colab-df-buttons div {\n",
              "      margin-bottom: 4px;\n",
              "    }\n",
              "\n",
              "    [theme=dark] .colab-df-convert {\n",
              "      background-color: #3B4455;\n",
              "      fill: #D2E3FC;\n",
              "    }\n",
              "\n",
              "    [theme=dark] .colab-df-convert:hover {\n",
              "      background-color: #434B5C;\n",
              "      box-shadow: 0px 1px 3px 1px rgba(0, 0, 0, 0.15);\n",
              "      filter: drop-shadow(0px 1px 2px rgba(0, 0, 0, 0.3));\n",
              "      fill: #FFFFFF;\n",
              "    }\n",
              "  </style>\n",
              "\n",
              "    <script>\n",
              "      const buttonEl =\n",
              "        document.querySelector('#df-7e1dd203-98df-469e-9715-7429043ccc84 button.colab-df-convert');\n",
              "      buttonEl.style.display =\n",
              "        google.colab.kernel.accessAllowed ? 'block' : 'none';\n",
              "\n",
              "      async function convertToInteractive(key) {\n",
              "        const element = document.querySelector('#df-7e1dd203-98df-469e-9715-7429043ccc84');\n",
              "        const dataTable =\n",
              "          await google.colab.kernel.invokeFunction('convertToInteractive',\n",
              "                                                    [key], {});\n",
              "        if (!dataTable) return;\n",
              "\n",
              "        const docLinkHtml = 'Like what you see? Visit the ' +\n",
              "          '<a target=\"_blank\" href=https://colab.research.google.com/notebooks/data_table.ipynb>data table notebook</a>'\n",
              "          + ' to learn more about interactive tables.';\n",
              "        element.innerHTML = '';\n",
              "        dataTable['output_type'] = 'display_data';\n",
              "        await google.colab.output.renderOutput(dataTable, element);\n",
              "        const docLink = document.createElement('div');\n",
              "        docLink.innerHTML = docLinkHtml;\n",
              "        element.appendChild(docLink);\n",
              "      }\n",
              "    </script>\n",
              "  </div>\n",
              "\n",
              "\n",
              "<div id=\"df-47a7b85c-5082-4b36-adef-204e55acf3b4\">\n",
              "  <button class=\"colab-df-quickchart\" onclick=\"quickchart('df-47a7b85c-5082-4b36-adef-204e55acf3b4')\"\n",
              "            title=\"Suggest charts\"\n",
              "            style=\"display:none;\">\n",
              "\n",
              "<svg xmlns=\"http://www.w3.org/2000/svg\" height=\"24px\"viewBox=\"0 0 24 24\"\n",
              "     width=\"24px\">\n",
              "    <g>\n",
              "        <path d=\"M19 3H5c-1.1 0-2 .9-2 2v14c0 1.1.9 2 2 2h14c1.1 0 2-.9 2-2V5c0-1.1-.9-2-2-2zM9 17H7v-7h2v7zm4 0h-2V7h2v10zm4 0h-2v-4h2v4z\"/>\n",
              "    </g>\n",
              "</svg>\n",
              "  </button>\n",
              "\n",
              "<style>\n",
              "  .colab-df-quickchart {\n",
              "      --bg-color: #E8F0FE;\n",
              "      --fill-color: #1967D2;\n",
              "      --hover-bg-color: #E2EBFA;\n",
              "      --hover-fill-color: #174EA6;\n",
              "      --disabled-fill-color: #AAA;\n",
              "      --disabled-bg-color: #DDD;\n",
              "  }\n",
              "\n",
              "  [theme=dark] .colab-df-quickchart {\n",
              "      --bg-color: #3B4455;\n",
              "      --fill-color: #D2E3FC;\n",
              "      --hover-bg-color: #434B5C;\n",
              "      --hover-fill-color: #FFFFFF;\n",
              "      --disabled-bg-color: #3B4455;\n",
              "      --disabled-fill-color: #666;\n",
              "  }\n",
              "\n",
              "  .colab-df-quickchart {\n",
              "    background-color: var(--bg-color);\n",
              "    border: none;\n",
              "    border-radius: 50%;\n",
              "    cursor: pointer;\n",
              "    display: none;\n",
              "    fill: var(--fill-color);\n",
              "    height: 32px;\n",
              "    padding: 0;\n",
              "    width: 32px;\n",
              "  }\n",
              "\n",
              "  .colab-df-quickchart:hover {\n",
              "    background-color: var(--hover-bg-color);\n",
              "    box-shadow: 0 1px 2px rgba(60, 64, 67, 0.3), 0 1px 3px 1px rgba(60, 64, 67, 0.15);\n",
              "    fill: var(--button-hover-fill-color);\n",
              "  }\n",
              "\n",
              "  .colab-df-quickchart-complete:disabled,\n",
              "  .colab-df-quickchart-complete:disabled:hover {\n",
              "    background-color: var(--disabled-bg-color);\n",
              "    fill: var(--disabled-fill-color);\n",
              "    box-shadow: none;\n",
              "  }\n",
              "\n",
              "  .colab-df-spinner {\n",
              "    border: 2px solid var(--fill-color);\n",
              "    border-color: transparent;\n",
              "    border-bottom-color: var(--fill-color);\n",
              "    animation:\n",
              "      spin 1s steps(1) infinite;\n",
              "  }\n",
              "\n",
              "  @keyframes spin {\n",
              "    0% {\n",
              "      border-color: transparent;\n",
              "      border-bottom-color: var(--fill-color);\n",
              "      border-left-color: var(--fill-color);\n",
              "    }\n",
              "    20% {\n",
              "      border-color: transparent;\n",
              "      border-left-color: var(--fill-color);\n",
              "      border-top-color: var(--fill-color);\n",
              "    }\n",
              "    30% {\n",
              "      border-color: transparent;\n",
              "      border-left-color: var(--fill-color);\n",
              "      border-top-color: var(--fill-color);\n",
              "      border-right-color: var(--fill-color);\n",
              "    }\n",
              "    40% {\n",
              "      border-color: transparent;\n",
              "      border-right-color: var(--fill-color);\n",
              "      border-top-color: var(--fill-color);\n",
              "    }\n",
              "    60% {\n",
              "      border-color: transparent;\n",
              "      border-right-color: var(--fill-color);\n",
              "    }\n",
              "    80% {\n",
              "      border-color: transparent;\n",
              "      border-right-color: var(--fill-color);\n",
              "      border-bottom-color: var(--fill-color);\n",
              "    }\n",
              "    90% {\n",
              "      border-color: transparent;\n",
              "      border-bottom-color: var(--fill-color);\n",
              "    }\n",
              "  }\n",
              "</style>\n",
              "\n",
              "  <script>\n",
              "    async function quickchart(key) {\n",
              "      const quickchartButtonEl =\n",
              "        document.querySelector('#' + key + ' button');\n",
              "      quickchartButtonEl.disabled = true;  // To prevent multiple clicks.\n",
              "      quickchartButtonEl.classList.add('colab-df-spinner');\n",
              "      try {\n",
              "        const charts = await google.colab.kernel.invokeFunction(\n",
              "            'suggestCharts', [key], {});\n",
              "      } catch (error) {\n",
              "        console.error('Error during call to suggestCharts:', error);\n",
              "      }\n",
              "      quickchartButtonEl.classList.remove('colab-df-spinner');\n",
              "      quickchartButtonEl.classList.add('colab-df-quickchart-complete');\n",
              "    }\n",
              "    (() => {\n",
              "      let quickchartButtonEl =\n",
              "        document.querySelector('#df-47a7b85c-5082-4b36-adef-204e55acf3b4 button');\n",
              "      quickchartButtonEl.style.display =\n",
              "        google.colab.kernel.accessAllowed ? 'block' : 'none';\n",
              "    })();\n",
              "  </script>\n",
              "</div>\n",
              "\n",
              "    </div>\n",
              "  </div>\n"
            ],
            "application/vnd.google.colaboratory.intrinsic+json": {
              "type": "dataframe",
              "variable_name": "titanic_df",
              "summary": "{\n  \"name\": \"titanic_df\",\n  \"rows\": 891,\n  \"fields\": [\n    {\n      \"column\": \"PassengerId\",\n      \"properties\": {\n        \"dtype\": \"number\",\n        \"std\": 257,\n        \"min\": 1,\n        \"max\": 891,\n        \"num_unique_values\": 891,\n        \"samples\": [\n          710,\n          440,\n          841\n        ],\n        \"semantic_type\": \"\",\n        \"description\": \"\"\n      }\n    },\n    {\n      \"column\": \"Survived\",\n      \"properties\": {\n        \"dtype\": \"number\",\n        \"std\": 0,\n        \"min\": 0,\n        \"max\": 1,\n        \"num_unique_values\": 2,\n        \"samples\": [\n          1,\n          0\n        ],\n        \"semantic_type\": \"\",\n        \"description\": \"\"\n      }\n    },\n    {\n      \"column\": \"Pclass\",\n      \"properties\": {\n        \"dtype\": \"number\",\n        \"std\": 0,\n        \"min\": 1,\n        \"max\": 3,\n        \"num_unique_values\": 3,\n        \"samples\": [\n          3,\n          1\n        ],\n        \"semantic_type\": \"\",\n        \"description\": \"\"\n      }\n    },\n    {\n      \"column\": \"Sex\",\n      \"properties\": {\n        \"dtype\": \"category\",\n        \"num_unique_values\": 2,\n        \"samples\": [\n          \"female\",\n          \"male\"\n        ],\n        \"semantic_type\": \"\",\n        \"description\": \"\"\n      }\n    },\n    {\n      \"column\": \"Age\",\n      \"properties\": {\n        \"dtype\": \"number\",\n        \"std\": 13.002015226002882,\n        \"min\": 0.42,\n        \"max\": 80.0,\n        \"num_unique_values\": 89,\n        \"samples\": [\n          59.0,\n          36.5\n        ],\n        \"semantic_type\": \"\",\n        \"description\": \"\"\n      }\n    },\n    {\n      \"column\": \"SibSp\",\n      \"properties\": {\n        \"dtype\": \"number\",\n        \"std\": 1,\n        \"min\": 0,\n        \"max\": 8,\n        \"num_unique_values\": 7,\n        \"samples\": [\n          1,\n          0\n        ],\n        \"semantic_type\": \"\",\n        \"description\": \"\"\n      }\n    },\n    {\n      \"column\": \"Parch\",\n      \"properties\": {\n        \"dtype\": \"number\",\n        \"std\": 0,\n        \"min\": 0,\n        \"max\": 6,\n        \"num_unique_values\": 7,\n        \"samples\": [\n          0,\n          1\n        ],\n        \"semantic_type\": \"\",\n        \"description\": \"\"\n      }\n    },\n    {\n      \"column\": \"Ticket\",\n      \"properties\": {\n        \"dtype\": \"string\",\n        \"num_unique_values\": 681,\n        \"samples\": [\n          \"11774\",\n          \"248740\"\n        ],\n        \"semantic_type\": \"\",\n        \"description\": \"\"\n      }\n    },\n    {\n      \"column\": \"Fare\",\n      \"properties\": {\n        \"dtype\": \"number\",\n        \"std\": 49.6934285971809,\n        \"min\": 0.0,\n        \"max\": 512.3292,\n        \"num_unique_values\": 248,\n        \"samples\": [\n          11.2417,\n          51.8625\n        ],\n        \"semantic_type\": \"\",\n        \"description\": \"\"\n      }\n    },\n    {\n      \"column\": \"Embarked\",\n      \"properties\": {\n        \"dtype\": \"category\",\n        \"num_unique_values\": 3,\n        \"samples\": [\n          \"S\",\n          \"C\"\n        ],\n        \"semantic_type\": \"\",\n        \"description\": \"\"\n      }\n    }\n  ]\n}"
            }
          },
          "metadata": {},
          "execution_count": 85
        }
      ]
    },
    {
      "cell_type": "code",
      "source": [
        "titanic_df['Sex'].value_counts()"
      ],
      "metadata": {
        "colab": {
          "base_uri": "https://localhost:8080/"
        },
        "id": "bvRlzjowYcH6",
        "outputId": "0f344812-d9fb-4494-a14a-ccdbd936be74"
      },
      "execution_count": null,
      "outputs": [
        {
          "output_type": "execute_result",
          "data": {
            "text/plain": [
              "Sex\n",
              "male      577\n",
              "female    314\n",
              "Name: count, dtype: int64"
            ]
          },
          "metadata": {},
          "execution_count": 86
        }
      ]
    },
    {
      "cell_type": "markdown",
      "source": [
        "As there are only two values in sex therefore we can replace them with 0 and 1"
      ],
      "metadata": {
        "id": "lNdWZPM2Yx3J"
      }
    },
    {
      "cell_type": "markdown",
      "source": [
        "male-0\n",
        "\n",
        "female-1"
      ],
      "metadata": {
        "id": "yPGasjajZIS7"
      }
    },
    {
      "cell_type": "code",
      "source": [
        "titanic_df.replace({'Sex':{'male':0 ,'female':1}},inplace=True)"
      ],
      "metadata": {
        "id": "_hpR6qDOYtEr"
      },
      "execution_count": null,
      "outputs": []
    },
    {
      "cell_type": "code",
      "source": [
        "titanic_df['Embarked'].value_counts()"
      ],
      "metadata": {
        "colab": {
          "base_uri": "https://localhost:8080/"
        },
        "id": "nmtaGZ1wZDLe",
        "outputId": "27128e78-7edc-44bc-d01c-93cc66559334"
      },
      "execution_count": null,
      "outputs": [
        {
          "output_type": "execute_result",
          "data": {
            "text/plain": [
              "Embarked\n",
              "S    646\n",
              "C    168\n",
              "Q     77\n",
              "Name: count, dtype: int64"
            ]
          },
          "metadata": {},
          "execution_count": 88
        }
      ]
    },
    {
      "cell_type": "markdown",
      "source": [
        "S-0\n",
        "\n",
        "C-1\n",
        "\n",
        "Q-2"
      ],
      "metadata": {
        "id": "qOp4RhPMZfg0"
      }
    },
    {
      "cell_type": "code",
      "source": [
        "titanic_df.replace({'Embarked':{'S':0,'C':1,'Q':2}},inplace=True)"
      ],
      "metadata": {
        "id": "dnzUimBsZeg2"
      },
      "execution_count": null,
      "outputs": []
    },
    {
      "cell_type": "code",
      "source": [
        "titanic_df.head()"
      ],
      "metadata": {
        "colab": {
          "base_uri": "https://localhost:8080/",
          "height": 206
        },
        "id": "-oeY9BmpZw4v",
        "outputId": "7a4fb33d-c9cc-473d-e910-b1bd7fecca9b"
      },
      "execution_count": null,
      "outputs": [
        {
          "output_type": "execute_result",
          "data": {
            "text/plain": [
              "   PassengerId  Survived  Pclass  Sex   Age  SibSp  Parch            Ticket  \\\n",
              "0            1         0       3    0  22.0      1      0         A/5 21171   \n",
              "1            2         1       1    1  38.0      1      0          PC 17599   \n",
              "2            3         1       3    1  26.0      0      0  STON/O2. 3101282   \n",
              "3            4         1       1    1  35.0      1      0            113803   \n",
              "4            5         0       3    0  35.0      0      0            373450   \n",
              "\n",
              "      Fare  Embarked  \n",
              "0   7.2500         0  \n",
              "1  71.2833         1  \n",
              "2   7.9250         0  \n",
              "3  53.1000         0  \n",
              "4   8.0500         0  "
            ],
            "text/html": [
              "\n",
              "  <div id=\"df-f4e4b105-1e84-4d95-9cd4-38dbeee423fa\" class=\"colab-df-container\">\n",
              "    <div>\n",
              "<style scoped>\n",
              "    .dataframe tbody tr th:only-of-type {\n",
              "        vertical-align: middle;\n",
              "    }\n",
              "\n",
              "    .dataframe tbody tr th {\n",
              "        vertical-align: top;\n",
              "    }\n",
              "\n",
              "    .dataframe thead th {\n",
              "        text-align: right;\n",
              "    }\n",
              "</style>\n",
              "<table border=\"1\" class=\"dataframe\">\n",
              "  <thead>\n",
              "    <tr style=\"text-align: right;\">\n",
              "      <th></th>\n",
              "      <th>PassengerId</th>\n",
              "      <th>Survived</th>\n",
              "      <th>Pclass</th>\n",
              "      <th>Sex</th>\n",
              "      <th>Age</th>\n",
              "      <th>SibSp</th>\n",
              "      <th>Parch</th>\n",
              "      <th>Ticket</th>\n",
              "      <th>Fare</th>\n",
              "      <th>Embarked</th>\n",
              "    </tr>\n",
              "  </thead>\n",
              "  <tbody>\n",
              "    <tr>\n",
              "      <th>0</th>\n",
              "      <td>1</td>\n",
              "      <td>0</td>\n",
              "      <td>3</td>\n",
              "      <td>0</td>\n",
              "      <td>22.0</td>\n",
              "      <td>1</td>\n",
              "      <td>0</td>\n",
              "      <td>A/5 21171</td>\n",
              "      <td>7.2500</td>\n",
              "      <td>0</td>\n",
              "    </tr>\n",
              "    <tr>\n",
              "      <th>1</th>\n",
              "      <td>2</td>\n",
              "      <td>1</td>\n",
              "      <td>1</td>\n",
              "      <td>1</td>\n",
              "      <td>38.0</td>\n",
              "      <td>1</td>\n",
              "      <td>0</td>\n",
              "      <td>PC 17599</td>\n",
              "      <td>71.2833</td>\n",
              "      <td>1</td>\n",
              "    </tr>\n",
              "    <tr>\n",
              "      <th>2</th>\n",
              "      <td>3</td>\n",
              "      <td>1</td>\n",
              "      <td>3</td>\n",
              "      <td>1</td>\n",
              "      <td>26.0</td>\n",
              "      <td>0</td>\n",
              "      <td>0</td>\n",
              "      <td>STON/O2. 3101282</td>\n",
              "      <td>7.9250</td>\n",
              "      <td>0</td>\n",
              "    </tr>\n",
              "    <tr>\n",
              "      <th>3</th>\n",
              "      <td>4</td>\n",
              "      <td>1</td>\n",
              "      <td>1</td>\n",
              "      <td>1</td>\n",
              "      <td>35.0</td>\n",
              "      <td>1</td>\n",
              "      <td>0</td>\n",
              "      <td>113803</td>\n",
              "      <td>53.1000</td>\n",
              "      <td>0</td>\n",
              "    </tr>\n",
              "    <tr>\n",
              "      <th>4</th>\n",
              "      <td>5</td>\n",
              "      <td>0</td>\n",
              "      <td>3</td>\n",
              "      <td>0</td>\n",
              "      <td>35.0</td>\n",
              "      <td>0</td>\n",
              "      <td>0</td>\n",
              "      <td>373450</td>\n",
              "      <td>8.0500</td>\n",
              "      <td>0</td>\n",
              "    </tr>\n",
              "  </tbody>\n",
              "</table>\n",
              "</div>\n",
              "    <div class=\"colab-df-buttons\">\n",
              "\n",
              "  <div class=\"colab-df-container\">\n",
              "    <button class=\"colab-df-convert\" onclick=\"convertToInteractive('df-f4e4b105-1e84-4d95-9cd4-38dbeee423fa')\"\n",
              "            title=\"Convert this dataframe to an interactive table.\"\n",
              "            style=\"display:none;\">\n",
              "\n",
              "  <svg xmlns=\"http://www.w3.org/2000/svg\" height=\"24px\" viewBox=\"0 -960 960 960\">\n",
              "    <path d=\"M120-120v-720h720v720H120Zm60-500h600v-160H180v160Zm220 220h160v-160H400v160Zm0 220h160v-160H400v160ZM180-400h160v-160H180v160Zm440 0h160v-160H620v160ZM180-180h160v-160H180v160Zm440 0h160v-160H620v160Z\"/>\n",
              "  </svg>\n",
              "    </button>\n",
              "\n",
              "  <style>\n",
              "    .colab-df-container {\n",
              "      display:flex;\n",
              "      gap: 12px;\n",
              "    }\n",
              "\n",
              "    .colab-df-convert {\n",
              "      background-color: #E8F0FE;\n",
              "      border: none;\n",
              "      border-radius: 50%;\n",
              "      cursor: pointer;\n",
              "      display: none;\n",
              "      fill: #1967D2;\n",
              "      height: 32px;\n",
              "      padding: 0 0 0 0;\n",
              "      width: 32px;\n",
              "    }\n",
              "\n",
              "    .colab-df-convert:hover {\n",
              "      background-color: #E2EBFA;\n",
              "      box-shadow: 0px 1px 2px rgba(60, 64, 67, 0.3), 0px 1px 3px 1px rgba(60, 64, 67, 0.15);\n",
              "      fill: #174EA6;\n",
              "    }\n",
              "\n",
              "    .colab-df-buttons div {\n",
              "      margin-bottom: 4px;\n",
              "    }\n",
              "\n",
              "    [theme=dark] .colab-df-convert {\n",
              "      background-color: #3B4455;\n",
              "      fill: #D2E3FC;\n",
              "    }\n",
              "\n",
              "    [theme=dark] .colab-df-convert:hover {\n",
              "      background-color: #434B5C;\n",
              "      box-shadow: 0px 1px 3px 1px rgba(0, 0, 0, 0.15);\n",
              "      filter: drop-shadow(0px 1px 2px rgba(0, 0, 0, 0.3));\n",
              "      fill: #FFFFFF;\n",
              "    }\n",
              "  </style>\n",
              "\n",
              "    <script>\n",
              "      const buttonEl =\n",
              "        document.querySelector('#df-f4e4b105-1e84-4d95-9cd4-38dbeee423fa button.colab-df-convert');\n",
              "      buttonEl.style.display =\n",
              "        google.colab.kernel.accessAllowed ? 'block' : 'none';\n",
              "\n",
              "      async function convertToInteractive(key) {\n",
              "        const element = document.querySelector('#df-f4e4b105-1e84-4d95-9cd4-38dbeee423fa');\n",
              "        const dataTable =\n",
              "          await google.colab.kernel.invokeFunction('convertToInteractive',\n",
              "                                                    [key], {});\n",
              "        if (!dataTable) return;\n",
              "\n",
              "        const docLinkHtml = 'Like what you see? Visit the ' +\n",
              "          '<a target=\"_blank\" href=https://colab.research.google.com/notebooks/data_table.ipynb>data table notebook</a>'\n",
              "          + ' to learn more about interactive tables.';\n",
              "        element.innerHTML = '';\n",
              "        dataTable['output_type'] = 'display_data';\n",
              "        await google.colab.output.renderOutput(dataTable, element);\n",
              "        const docLink = document.createElement('div');\n",
              "        docLink.innerHTML = docLinkHtml;\n",
              "        element.appendChild(docLink);\n",
              "      }\n",
              "    </script>\n",
              "  </div>\n",
              "\n",
              "\n",
              "<div id=\"df-fa590995-27db-481e-abd2-f33d5e2969d7\">\n",
              "  <button class=\"colab-df-quickchart\" onclick=\"quickchart('df-fa590995-27db-481e-abd2-f33d5e2969d7')\"\n",
              "            title=\"Suggest charts\"\n",
              "            style=\"display:none;\">\n",
              "\n",
              "<svg xmlns=\"http://www.w3.org/2000/svg\" height=\"24px\"viewBox=\"0 0 24 24\"\n",
              "     width=\"24px\">\n",
              "    <g>\n",
              "        <path d=\"M19 3H5c-1.1 0-2 .9-2 2v14c0 1.1.9 2 2 2h14c1.1 0 2-.9 2-2V5c0-1.1-.9-2-2-2zM9 17H7v-7h2v7zm4 0h-2V7h2v10zm4 0h-2v-4h2v4z\"/>\n",
              "    </g>\n",
              "</svg>\n",
              "  </button>\n",
              "\n",
              "<style>\n",
              "  .colab-df-quickchart {\n",
              "      --bg-color: #E8F0FE;\n",
              "      --fill-color: #1967D2;\n",
              "      --hover-bg-color: #E2EBFA;\n",
              "      --hover-fill-color: #174EA6;\n",
              "      --disabled-fill-color: #AAA;\n",
              "      --disabled-bg-color: #DDD;\n",
              "  }\n",
              "\n",
              "  [theme=dark] .colab-df-quickchart {\n",
              "      --bg-color: #3B4455;\n",
              "      --fill-color: #D2E3FC;\n",
              "      --hover-bg-color: #434B5C;\n",
              "      --hover-fill-color: #FFFFFF;\n",
              "      --disabled-bg-color: #3B4455;\n",
              "      --disabled-fill-color: #666;\n",
              "  }\n",
              "\n",
              "  .colab-df-quickchart {\n",
              "    background-color: var(--bg-color);\n",
              "    border: none;\n",
              "    border-radius: 50%;\n",
              "    cursor: pointer;\n",
              "    display: none;\n",
              "    fill: var(--fill-color);\n",
              "    height: 32px;\n",
              "    padding: 0;\n",
              "    width: 32px;\n",
              "  }\n",
              "\n",
              "  .colab-df-quickchart:hover {\n",
              "    background-color: var(--hover-bg-color);\n",
              "    box-shadow: 0 1px 2px rgba(60, 64, 67, 0.3), 0 1px 3px 1px rgba(60, 64, 67, 0.15);\n",
              "    fill: var(--button-hover-fill-color);\n",
              "  }\n",
              "\n",
              "  .colab-df-quickchart-complete:disabled,\n",
              "  .colab-df-quickchart-complete:disabled:hover {\n",
              "    background-color: var(--disabled-bg-color);\n",
              "    fill: var(--disabled-fill-color);\n",
              "    box-shadow: none;\n",
              "  }\n",
              "\n",
              "  .colab-df-spinner {\n",
              "    border: 2px solid var(--fill-color);\n",
              "    border-color: transparent;\n",
              "    border-bottom-color: var(--fill-color);\n",
              "    animation:\n",
              "      spin 1s steps(1) infinite;\n",
              "  }\n",
              "\n",
              "  @keyframes spin {\n",
              "    0% {\n",
              "      border-color: transparent;\n",
              "      border-bottom-color: var(--fill-color);\n",
              "      border-left-color: var(--fill-color);\n",
              "    }\n",
              "    20% {\n",
              "      border-color: transparent;\n",
              "      border-left-color: var(--fill-color);\n",
              "      border-top-color: var(--fill-color);\n",
              "    }\n",
              "    30% {\n",
              "      border-color: transparent;\n",
              "      border-left-color: var(--fill-color);\n",
              "      border-top-color: var(--fill-color);\n",
              "      border-right-color: var(--fill-color);\n",
              "    }\n",
              "    40% {\n",
              "      border-color: transparent;\n",
              "      border-right-color: var(--fill-color);\n",
              "      border-top-color: var(--fill-color);\n",
              "    }\n",
              "    60% {\n",
              "      border-color: transparent;\n",
              "      border-right-color: var(--fill-color);\n",
              "    }\n",
              "    80% {\n",
              "      border-color: transparent;\n",
              "      border-right-color: var(--fill-color);\n",
              "      border-bottom-color: var(--fill-color);\n",
              "    }\n",
              "    90% {\n",
              "      border-color: transparent;\n",
              "      border-bottom-color: var(--fill-color);\n",
              "    }\n",
              "  }\n",
              "</style>\n",
              "\n",
              "  <script>\n",
              "    async function quickchart(key) {\n",
              "      const quickchartButtonEl =\n",
              "        document.querySelector('#' + key + ' button');\n",
              "      quickchartButtonEl.disabled = true;  // To prevent multiple clicks.\n",
              "      quickchartButtonEl.classList.add('colab-df-spinner');\n",
              "      try {\n",
              "        const charts = await google.colab.kernel.invokeFunction(\n",
              "            'suggestCharts', [key], {});\n",
              "      } catch (error) {\n",
              "        console.error('Error during call to suggestCharts:', error);\n",
              "      }\n",
              "      quickchartButtonEl.classList.remove('colab-df-spinner');\n",
              "      quickchartButtonEl.classList.add('colab-df-quickchart-complete');\n",
              "    }\n",
              "    (() => {\n",
              "      let quickchartButtonEl =\n",
              "        document.querySelector('#df-fa590995-27db-481e-abd2-f33d5e2969d7 button');\n",
              "      quickchartButtonEl.style.display =\n",
              "        google.colab.kernel.accessAllowed ? 'block' : 'none';\n",
              "    })();\n",
              "  </script>\n",
              "</div>\n",
              "\n",
              "    </div>\n",
              "  </div>\n"
            ],
            "application/vnd.google.colaboratory.intrinsic+json": {
              "type": "dataframe",
              "variable_name": "titanic_df",
              "summary": "{\n  \"name\": \"titanic_df\",\n  \"rows\": 891,\n  \"fields\": [\n    {\n      \"column\": \"PassengerId\",\n      \"properties\": {\n        \"dtype\": \"number\",\n        \"std\": 257,\n        \"min\": 1,\n        \"max\": 891,\n        \"num_unique_values\": 891,\n        \"samples\": [\n          710,\n          440,\n          841\n        ],\n        \"semantic_type\": \"\",\n        \"description\": \"\"\n      }\n    },\n    {\n      \"column\": \"Survived\",\n      \"properties\": {\n        \"dtype\": \"number\",\n        \"std\": 0,\n        \"min\": 0,\n        \"max\": 1,\n        \"num_unique_values\": 2,\n        \"samples\": [\n          1,\n          0\n        ],\n        \"semantic_type\": \"\",\n        \"description\": \"\"\n      }\n    },\n    {\n      \"column\": \"Pclass\",\n      \"properties\": {\n        \"dtype\": \"number\",\n        \"std\": 0,\n        \"min\": 1,\n        \"max\": 3,\n        \"num_unique_values\": 3,\n        \"samples\": [\n          3,\n          1\n        ],\n        \"semantic_type\": \"\",\n        \"description\": \"\"\n      }\n    },\n    {\n      \"column\": \"Sex\",\n      \"properties\": {\n        \"dtype\": \"number\",\n        \"std\": 0,\n        \"min\": 0,\n        \"max\": 1,\n        \"num_unique_values\": 2,\n        \"samples\": [\n          1,\n          0\n        ],\n        \"semantic_type\": \"\",\n        \"description\": \"\"\n      }\n    },\n    {\n      \"column\": \"Age\",\n      \"properties\": {\n        \"dtype\": \"number\",\n        \"std\": 13.002015226002882,\n        \"min\": 0.42,\n        \"max\": 80.0,\n        \"num_unique_values\": 89,\n        \"samples\": [\n          59.0,\n          36.5\n        ],\n        \"semantic_type\": \"\",\n        \"description\": \"\"\n      }\n    },\n    {\n      \"column\": \"SibSp\",\n      \"properties\": {\n        \"dtype\": \"number\",\n        \"std\": 1,\n        \"min\": 0,\n        \"max\": 8,\n        \"num_unique_values\": 7,\n        \"samples\": [\n          1,\n          0\n        ],\n        \"semantic_type\": \"\",\n        \"description\": \"\"\n      }\n    },\n    {\n      \"column\": \"Parch\",\n      \"properties\": {\n        \"dtype\": \"number\",\n        \"std\": 0,\n        \"min\": 0,\n        \"max\": 6,\n        \"num_unique_values\": 7,\n        \"samples\": [\n          0,\n          1\n        ],\n        \"semantic_type\": \"\",\n        \"description\": \"\"\n      }\n    },\n    {\n      \"column\": \"Ticket\",\n      \"properties\": {\n        \"dtype\": \"string\",\n        \"num_unique_values\": 681,\n        \"samples\": [\n          \"11774\",\n          \"248740\"\n        ],\n        \"semantic_type\": \"\",\n        \"description\": \"\"\n      }\n    },\n    {\n      \"column\": \"Fare\",\n      \"properties\": {\n        \"dtype\": \"number\",\n        \"std\": 49.6934285971809,\n        \"min\": 0.0,\n        \"max\": 512.3292,\n        \"num_unique_values\": 248,\n        \"samples\": [\n          11.2417,\n          51.8625\n        ],\n        \"semantic_type\": \"\",\n        \"description\": \"\"\n      }\n    },\n    {\n      \"column\": \"Embarked\",\n      \"properties\": {\n        \"dtype\": \"number\",\n        \"std\": 0,\n        \"min\": 0,\n        \"max\": 2,\n        \"num_unique_values\": 3,\n        \"samples\": [\n          0,\n          1\n        ],\n        \"semantic_type\": \"\",\n        \"description\": \"\"\n      }\n    }\n  ]\n}"
            }
          },
          "metadata": {},
          "execution_count": 90
        }
      ]
    },
    {
      "cell_type": "code",
      "source": [
        "titanic_df = titanic_df.drop(columns =['PassengerId','Ticket'],axis=1 )"
      ],
      "metadata": {
        "id": "qzuTGdUta7R7"
      },
      "execution_count": null,
      "outputs": []
    },
    {
      "cell_type": "code",
      "source": [
        "titanic_df.head()"
      ],
      "metadata": {
        "colab": {
          "base_uri": "https://localhost:8080/",
          "height": 206
        },
        "id": "htPrbE-Oixmd",
        "outputId": "e9807c7b-3927-4eea-d157-b3aa75c0536c"
      },
      "execution_count": null,
      "outputs": [
        {
          "output_type": "execute_result",
          "data": {
            "text/plain": [
              "   Survived  Pclass  Sex   Age  SibSp  Parch     Fare  Embarked\n",
              "0         0       3    0  22.0      1      0   7.2500         0\n",
              "1         1       1    1  38.0      1      0  71.2833         1\n",
              "2         1       3    1  26.0      0      0   7.9250         0\n",
              "3         1       1    1  35.0      1      0  53.1000         0\n",
              "4         0       3    0  35.0      0      0   8.0500         0"
            ],
            "text/html": [
              "\n",
              "  <div id=\"df-eee914ff-2b24-4dbf-9415-75363092f558\" class=\"colab-df-container\">\n",
              "    <div>\n",
              "<style scoped>\n",
              "    .dataframe tbody tr th:only-of-type {\n",
              "        vertical-align: middle;\n",
              "    }\n",
              "\n",
              "    .dataframe tbody tr th {\n",
              "        vertical-align: top;\n",
              "    }\n",
              "\n",
              "    .dataframe thead th {\n",
              "        text-align: right;\n",
              "    }\n",
              "</style>\n",
              "<table border=\"1\" class=\"dataframe\">\n",
              "  <thead>\n",
              "    <tr style=\"text-align: right;\">\n",
              "      <th></th>\n",
              "      <th>Survived</th>\n",
              "      <th>Pclass</th>\n",
              "      <th>Sex</th>\n",
              "      <th>Age</th>\n",
              "      <th>SibSp</th>\n",
              "      <th>Parch</th>\n",
              "      <th>Fare</th>\n",
              "      <th>Embarked</th>\n",
              "    </tr>\n",
              "  </thead>\n",
              "  <tbody>\n",
              "    <tr>\n",
              "      <th>0</th>\n",
              "      <td>0</td>\n",
              "      <td>3</td>\n",
              "      <td>0</td>\n",
              "      <td>22.0</td>\n",
              "      <td>1</td>\n",
              "      <td>0</td>\n",
              "      <td>7.2500</td>\n",
              "      <td>0</td>\n",
              "    </tr>\n",
              "    <tr>\n",
              "      <th>1</th>\n",
              "      <td>1</td>\n",
              "      <td>1</td>\n",
              "      <td>1</td>\n",
              "      <td>38.0</td>\n",
              "      <td>1</td>\n",
              "      <td>0</td>\n",
              "      <td>71.2833</td>\n",
              "      <td>1</td>\n",
              "    </tr>\n",
              "    <tr>\n",
              "      <th>2</th>\n",
              "      <td>1</td>\n",
              "      <td>3</td>\n",
              "      <td>1</td>\n",
              "      <td>26.0</td>\n",
              "      <td>0</td>\n",
              "      <td>0</td>\n",
              "      <td>7.9250</td>\n",
              "      <td>0</td>\n",
              "    </tr>\n",
              "    <tr>\n",
              "      <th>3</th>\n",
              "      <td>1</td>\n",
              "      <td>1</td>\n",
              "      <td>1</td>\n",
              "      <td>35.0</td>\n",
              "      <td>1</td>\n",
              "      <td>0</td>\n",
              "      <td>53.1000</td>\n",
              "      <td>0</td>\n",
              "    </tr>\n",
              "    <tr>\n",
              "      <th>4</th>\n",
              "      <td>0</td>\n",
              "      <td>3</td>\n",
              "      <td>0</td>\n",
              "      <td>35.0</td>\n",
              "      <td>0</td>\n",
              "      <td>0</td>\n",
              "      <td>8.0500</td>\n",
              "      <td>0</td>\n",
              "    </tr>\n",
              "  </tbody>\n",
              "</table>\n",
              "</div>\n",
              "    <div class=\"colab-df-buttons\">\n",
              "\n",
              "  <div class=\"colab-df-container\">\n",
              "    <button class=\"colab-df-convert\" onclick=\"convertToInteractive('df-eee914ff-2b24-4dbf-9415-75363092f558')\"\n",
              "            title=\"Convert this dataframe to an interactive table.\"\n",
              "            style=\"display:none;\">\n",
              "\n",
              "  <svg xmlns=\"http://www.w3.org/2000/svg\" height=\"24px\" viewBox=\"0 -960 960 960\">\n",
              "    <path d=\"M120-120v-720h720v720H120Zm60-500h600v-160H180v160Zm220 220h160v-160H400v160Zm0 220h160v-160H400v160ZM180-400h160v-160H180v160Zm440 0h160v-160H620v160ZM180-180h160v-160H180v160Zm440 0h160v-160H620v160Z\"/>\n",
              "  </svg>\n",
              "    </button>\n",
              "\n",
              "  <style>\n",
              "    .colab-df-container {\n",
              "      display:flex;\n",
              "      gap: 12px;\n",
              "    }\n",
              "\n",
              "    .colab-df-convert {\n",
              "      background-color: #E8F0FE;\n",
              "      border: none;\n",
              "      border-radius: 50%;\n",
              "      cursor: pointer;\n",
              "      display: none;\n",
              "      fill: #1967D2;\n",
              "      height: 32px;\n",
              "      padding: 0 0 0 0;\n",
              "      width: 32px;\n",
              "    }\n",
              "\n",
              "    .colab-df-convert:hover {\n",
              "      background-color: #E2EBFA;\n",
              "      box-shadow: 0px 1px 2px rgba(60, 64, 67, 0.3), 0px 1px 3px 1px rgba(60, 64, 67, 0.15);\n",
              "      fill: #174EA6;\n",
              "    }\n",
              "\n",
              "    .colab-df-buttons div {\n",
              "      margin-bottom: 4px;\n",
              "    }\n",
              "\n",
              "    [theme=dark] .colab-df-convert {\n",
              "      background-color: #3B4455;\n",
              "      fill: #D2E3FC;\n",
              "    }\n",
              "\n",
              "    [theme=dark] .colab-df-convert:hover {\n",
              "      background-color: #434B5C;\n",
              "      box-shadow: 0px 1px 3px 1px rgba(0, 0, 0, 0.15);\n",
              "      filter: drop-shadow(0px 1px 2px rgba(0, 0, 0, 0.3));\n",
              "      fill: #FFFFFF;\n",
              "    }\n",
              "  </style>\n",
              "\n",
              "    <script>\n",
              "      const buttonEl =\n",
              "        document.querySelector('#df-eee914ff-2b24-4dbf-9415-75363092f558 button.colab-df-convert');\n",
              "      buttonEl.style.display =\n",
              "        google.colab.kernel.accessAllowed ? 'block' : 'none';\n",
              "\n",
              "      async function convertToInteractive(key) {\n",
              "        const element = document.querySelector('#df-eee914ff-2b24-4dbf-9415-75363092f558');\n",
              "        const dataTable =\n",
              "          await google.colab.kernel.invokeFunction('convertToInteractive',\n",
              "                                                    [key], {});\n",
              "        if (!dataTable) return;\n",
              "\n",
              "        const docLinkHtml = 'Like what you see? Visit the ' +\n",
              "          '<a target=\"_blank\" href=https://colab.research.google.com/notebooks/data_table.ipynb>data table notebook</a>'\n",
              "          + ' to learn more about interactive tables.';\n",
              "        element.innerHTML = '';\n",
              "        dataTable['output_type'] = 'display_data';\n",
              "        await google.colab.output.renderOutput(dataTable, element);\n",
              "        const docLink = document.createElement('div');\n",
              "        docLink.innerHTML = docLinkHtml;\n",
              "        element.appendChild(docLink);\n",
              "      }\n",
              "    </script>\n",
              "  </div>\n",
              "\n",
              "\n",
              "<div id=\"df-3b138ae3-6546-45aa-bc40-2173fd473736\">\n",
              "  <button class=\"colab-df-quickchart\" onclick=\"quickchart('df-3b138ae3-6546-45aa-bc40-2173fd473736')\"\n",
              "            title=\"Suggest charts\"\n",
              "            style=\"display:none;\">\n",
              "\n",
              "<svg xmlns=\"http://www.w3.org/2000/svg\" height=\"24px\"viewBox=\"0 0 24 24\"\n",
              "     width=\"24px\">\n",
              "    <g>\n",
              "        <path d=\"M19 3H5c-1.1 0-2 .9-2 2v14c0 1.1.9 2 2 2h14c1.1 0 2-.9 2-2V5c0-1.1-.9-2-2-2zM9 17H7v-7h2v7zm4 0h-2V7h2v10zm4 0h-2v-4h2v4z\"/>\n",
              "    </g>\n",
              "</svg>\n",
              "  </button>\n",
              "\n",
              "<style>\n",
              "  .colab-df-quickchart {\n",
              "      --bg-color: #E8F0FE;\n",
              "      --fill-color: #1967D2;\n",
              "      --hover-bg-color: #E2EBFA;\n",
              "      --hover-fill-color: #174EA6;\n",
              "      --disabled-fill-color: #AAA;\n",
              "      --disabled-bg-color: #DDD;\n",
              "  }\n",
              "\n",
              "  [theme=dark] .colab-df-quickchart {\n",
              "      --bg-color: #3B4455;\n",
              "      --fill-color: #D2E3FC;\n",
              "      --hover-bg-color: #434B5C;\n",
              "      --hover-fill-color: #FFFFFF;\n",
              "      --disabled-bg-color: #3B4455;\n",
              "      --disabled-fill-color: #666;\n",
              "  }\n",
              "\n",
              "  .colab-df-quickchart {\n",
              "    background-color: var(--bg-color);\n",
              "    border: none;\n",
              "    border-radius: 50%;\n",
              "    cursor: pointer;\n",
              "    display: none;\n",
              "    fill: var(--fill-color);\n",
              "    height: 32px;\n",
              "    padding: 0;\n",
              "    width: 32px;\n",
              "  }\n",
              "\n",
              "  .colab-df-quickchart:hover {\n",
              "    background-color: var(--hover-bg-color);\n",
              "    box-shadow: 0 1px 2px rgba(60, 64, 67, 0.3), 0 1px 3px 1px rgba(60, 64, 67, 0.15);\n",
              "    fill: var(--button-hover-fill-color);\n",
              "  }\n",
              "\n",
              "  .colab-df-quickchart-complete:disabled,\n",
              "  .colab-df-quickchart-complete:disabled:hover {\n",
              "    background-color: var(--disabled-bg-color);\n",
              "    fill: var(--disabled-fill-color);\n",
              "    box-shadow: none;\n",
              "  }\n",
              "\n",
              "  .colab-df-spinner {\n",
              "    border: 2px solid var(--fill-color);\n",
              "    border-color: transparent;\n",
              "    border-bottom-color: var(--fill-color);\n",
              "    animation:\n",
              "      spin 1s steps(1) infinite;\n",
              "  }\n",
              "\n",
              "  @keyframes spin {\n",
              "    0% {\n",
              "      border-color: transparent;\n",
              "      border-bottom-color: var(--fill-color);\n",
              "      border-left-color: var(--fill-color);\n",
              "    }\n",
              "    20% {\n",
              "      border-color: transparent;\n",
              "      border-left-color: var(--fill-color);\n",
              "      border-top-color: var(--fill-color);\n",
              "    }\n",
              "    30% {\n",
              "      border-color: transparent;\n",
              "      border-left-color: var(--fill-color);\n",
              "      border-top-color: var(--fill-color);\n",
              "      border-right-color: var(--fill-color);\n",
              "    }\n",
              "    40% {\n",
              "      border-color: transparent;\n",
              "      border-right-color: var(--fill-color);\n",
              "      border-top-color: var(--fill-color);\n",
              "    }\n",
              "    60% {\n",
              "      border-color: transparent;\n",
              "      border-right-color: var(--fill-color);\n",
              "    }\n",
              "    80% {\n",
              "      border-color: transparent;\n",
              "      border-right-color: var(--fill-color);\n",
              "      border-bottom-color: var(--fill-color);\n",
              "    }\n",
              "    90% {\n",
              "      border-color: transparent;\n",
              "      border-bottom-color: var(--fill-color);\n",
              "    }\n",
              "  }\n",
              "</style>\n",
              "\n",
              "  <script>\n",
              "    async function quickchart(key) {\n",
              "      const quickchartButtonEl =\n",
              "        document.querySelector('#' + key + ' button');\n",
              "      quickchartButtonEl.disabled = true;  // To prevent multiple clicks.\n",
              "      quickchartButtonEl.classList.add('colab-df-spinner');\n",
              "      try {\n",
              "        const charts = await google.colab.kernel.invokeFunction(\n",
              "            'suggestCharts', [key], {});\n",
              "      } catch (error) {\n",
              "        console.error('Error during call to suggestCharts:', error);\n",
              "      }\n",
              "      quickchartButtonEl.classList.remove('colab-df-spinner');\n",
              "      quickchartButtonEl.classList.add('colab-df-quickchart-complete');\n",
              "    }\n",
              "    (() => {\n",
              "      let quickchartButtonEl =\n",
              "        document.querySelector('#df-3b138ae3-6546-45aa-bc40-2173fd473736 button');\n",
              "      quickchartButtonEl.style.display =\n",
              "        google.colab.kernel.accessAllowed ? 'block' : 'none';\n",
              "    })();\n",
              "  </script>\n",
              "</div>\n",
              "\n",
              "    </div>\n",
              "  </div>\n"
            ],
            "application/vnd.google.colaboratory.intrinsic+json": {
              "type": "dataframe",
              "variable_name": "titanic_df",
              "summary": "{\n  \"name\": \"titanic_df\",\n  \"rows\": 891,\n  \"fields\": [\n    {\n      \"column\": \"Survived\",\n      \"properties\": {\n        \"dtype\": \"number\",\n        \"std\": 0,\n        \"min\": 0,\n        \"max\": 1,\n        \"num_unique_values\": 2,\n        \"samples\": [\n          1,\n          0\n        ],\n        \"semantic_type\": \"\",\n        \"description\": \"\"\n      }\n    },\n    {\n      \"column\": \"Pclass\",\n      \"properties\": {\n        \"dtype\": \"number\",\n        \"std\": 0,\n        \"min\": 1,\n        \"max\": 3,\n        \"num_unique_values\": 3,\n        \"samples\": [\n          3,\n          1\n        ],\n        \"semantic_type\": \"\",\n        \"description\": \"\"\n      }\n    },\n    {\n      \"column\": \"Sex\",\n      \"properties\": {\n        \"dtype\": \"number\",\n        \"std\": 0,\n        \"min\": 0,\n        \"max\": 1,\n        \"num_unique_values\": 2,\n        \"samples\": [\n          1,\n          0\n        ],\n        \"semantic_type\": \"\",\n        \"description\": \"\"\n      }\n    },\n    {\n      \"column\": \"Age\",\n      \"properties\": {\n        \"dtype\": \"number\",\n        \"std\": 13.002015226002882,\n        \"min\": 0.42,\n        \"max\": 80.0,\n        \"num_unique_values\": 89,\n        \"samples\": [\n          59.0,\n          36.5\n        ],\n        \"semantic_type\": \"\",\n        \"description\": \"\"\n      }\n    },\n    {\n      \"column\": \"SibSp\",\n      \"properties\": {\n        \"dtype\": \"number\",\n        \"std\": 1,\n        \"min\": 0,\n        \"max\": 8,\n        \"num_unique_values\": 7,\n        \"samples\": [\n          1,\n          0\n        ],\n        \"semantic_type\": \"\",\n        \"description\": \"\"\n      }\n    },\n    {\n      \"column\": \"Parch\",\n      \"properties\": {\n        \"dtype\": \"number\",\n        \"std\": 0,\n        \"min\": 0,\n        \"max\": 6,\n        \"num_unique_values\": 7,\n        \"samples\": [\n          0,\n          1\n        ],\n        \"semantic_type\": \"\",\n        \"description\": \"\"\n      }\n    },\n    {\n      \"column\": \"Fare\",\n      \"properties\": {\n        \"dtype\": \"number\",\n        \"std\": 49.6934285971809,\n        \"min\": 0.0,\n        \"max\": 512.3292,\n        \"num_unique_values\": 248,\n        \"samples\": [\n          11.2417,\n          51.8625\n        ],\n        \"semantic_type\": \"\",\n        \"description\": \"\"\n      }\n    },\n    {\n      \"column\": \"Embarked\",\n      \"properties\": {\n        \"dtype\": \"number\",\n        \"std\": 0,\n        \"min\": 0,\n        \"max\": 2,\n        \"num_unique_values\": 3,\n        \"samples\": [\n          0,\n          1\n        ],\n        \"semantic_type\": \"\",\n        \"description\": \"\"\n      }\n    }\n  ]\n}"
            }
          },
          "metadata": {},
          "execution_count": 109
        }
      ]
    },
    {
      "cell_type": "markdown",
      "source": [
        "Understanding the correlation between target variable and features"
      ],
      "metadata": {
        "id": "Ho3yzPKQamg1"
      }
    },
    {
      "cell_type": "code",
      "source": [
        "plt.figure(figsize=(10,10))\n",
        "sns.heatmap(titanic_df.corr(),annot=True)\n",
        "plt.show()"
      ],
      "metadata": {
        "colab": {
          "base_uri": "https://localhost:8080/",
          "height": 841
        },
        "id": "bJ1TlaFqaldA",
        "outputId": "236e9061-8731-4536-c6d1-d63214b7e7ff"
      },
      "execution_count": null,
      "outputs": [
        {
          "output_type": "display_data",
          "data": {
            "text/plain": [
              "<Figure size 1000x1000 with 2 Axes>"
            ],
            "image/png": "[encoded data removed]"
          },
          "metadata": {}
        }
      ]
    },
    {
      "cell_type": "markdown",
      "source": [
        "#Define Feature And Target Variable"
      ],
      "metadata": {
        "id": "No8xoInUaTGY"
      }
    },
    {
      "cell_type": "code",
      "source": [
        "x = titanic_df.drop(columns = ['Survived'],axis=1)\n",
        "y = titanic_df['Survived']"
      ],
      "metadata": {
        "id": "5J9MoWXZZzGY"
      },
      "execution_count": null,
      "outputs": []
    },
    {
      "cell_type": "code",
      "source": [
        "x"
      ],
      "metadata": {
        "colab": {
          "base_uri": "https://localhost:8080/",
          "height": 423
        },
        "id": "UcbCIXnXbjqM",
        "outputId": "5940d804-3361-4735-e95c-79100a8645cf"
      },
      "execution_count": null,
      "outputs": [
        {
          "output_type": "execute_result",
          "data": {
            "text/plain": [
              "     Pclass  Sex        Age  SibSp  Parch     Fare  Embarked\n",
              "0         3    0  22.000000      1      0   7.2500         0\n",
              "1         1    1  38.000000      1      0  71.2833         1\n",
              "2         3    1  26.000000      0      0   7.9250         0\n",
              "3         1    1  35.000000      1      0  53.1000         0\n",
              "4         3    0  35.000000      0      0   8.0500         0\n",
              "..      ...  ...        ...    ...    ...      ...       ...\n",
              "886       2    0  27.000000      0      0  13.0000         0\n",
              "887       1    1  19.000000      0      0  30.0000         0\n",
              "888       3    1  29.699118      1      2  23.4500         0\n",
              "889       1    0  26.000000      0      0  30.0000         1\n",
              "890       3    0  32.000000      0      0   7.7500         2\n",
              "\n",
              "[891 rows x 7 columns]"
            ],
            "text/html": [
              "\n",
              "  <div id=\"df-027dba26-3b54-4716-93ac-b9b0642af8fc\" class=\"colab-df-container\">\n",
              "    <div>\n",
              "<style scoped>\n",
              "    .dataframe tbody tr th:only-of-type {\n",
              "        vertical-align: middle;\n",
              "    }\n",
              "\n",
              "    .dataframe tbody tr th {\n",
              "        vertical-align: top;\n",
              "    }\n",
              "\n",
              "    .dataframe thead th {\n",
              "        text-align: right;\n",
              "    }\n",
              "</style>\n",
              "<table border=\"1\" class=\"dataframe\">\n",
              "  <thead>\n",
              "    <tr style=\"text-align: right;\">\n",
              "      <th></th>\n",
              "      <th>Pclass</th>\n",
              "      <th>Sex</th>\n",
              "      <th>Age</th>\n",
              "      <th>SibSp</th>\n",
              "      <th>Parch</th>\n",
              "      <th>Fare</th>\n",
              "      <th>Embarked</th>\n",
              "    </tr>\n",
              "  </thead>\n",
              "  <tbody>\n",
              "    <tr>\n",
              "      <th>0</th>\n",
              "      <td>3</td>\n",
              "      <td>0</td>\n",
              "      <td>22.000000</td>\n",
              "      <td>1</td>\n",
              "      <td>0</td>\n",
              "      <td>7.2500</td>\n",
              "      <td>0</td>\n",
              "    </tr>\n",
              "    <tr>\n",
              "      <th>1</th>\n",
              "      <td>1</td>\n",
              "      <td>1</td>\n",
              "      <td>38.000000</td>\n",
              "      <td>1</td>\n",
              "      <td>0</td>\n",
              "      <td>71.2833</td>\n",
              "      <td>1</td>\n",
              "    </tr>\n",
              "    <tr>\n",
              "      <th>2</th>\n",
              "      <td>3</td>\n",
              "      <td>1</td>\n",
              "      <td>26.000000</td>\n",
              "      <td>0</td>\n",
              "      <td>0</td>\n",
              "      <td>7.9250</td>\n",
              "      <td>0</td>\n",
              "    </tr>\n",
              "    <tr>\n",
              "      <th>3</th>\n",
              "      <td>1</td>\n",
              "      <td>1</td>\n",
              "      <td>35.000000</td>\n",
              "      <td>1</td>\n",
              "      <td>0</td>\n",
              "      <td>53.1000</td>\n",
              "      <td>0</td>\n",
              "    </tr>\n",
              "    <tr>\n",
              "      <th>4</th>\n",
              "      <td>3</td>\n",
              "      <td>0</td>\n",
              "      <td>35.000000</td>\n",
              "      <td>0</td>\n",
              "      <td>0</td>\n",
              "      <td>8.0500</td>\n",
              "      <td>0</td>\n",
              "    </tr>\n",
              "    <tr>\n",
              "      <th>...</th>\n",
              "      <td>...</td>\n",
              "      <td>...</td>\n",
              "      <td>...</td>\n",
              "      <td>...</td>\n",
              "      <td>...</td>\n",
              "      <td>...</td>\n",
              "      <td>...</td>\n",
              "    </tr>\n",
              "    <tr>\n",
              "      <th>886</th>\n",
              "      <td>2</td>\n",
              "      <td>0</td>\n",
              "      <td>27.000000</td>\n",
              "      <td>0</td>\n",
              "      <td>0</td>\n",
              "      <td>13.0000</td>\n",
              "      <td>0</td>\n",
              "    </tr>\n",
              "    <tr>\n",
              "      <th>887</th>\n",
              "      <td>1</td>\n",
              "      <td>1</td>\n",
              "      <td>19.000000</td>\n",
              "      <td>0</td>\n",
              "      <td>0</td>\n",
              "      <td>30.0000</td>\n",
              "      <td>0</td>\n",
              "    </tr>\n",
              "    <tr>\n",
              "      <th>888</th>\n",
              "      <td>3</td>\n",
              "      <td>1</td>\n",
              "      <td>29.699118</td>\n",
              "      <td>1</td>\n",
              "      <td>2</td>\n",
              "      <td>23.4500</td>\n",
              "      <td>0</td>\n",
              "    </tr>\n",
              "    <tr>\n",
              "      <th>889</th>\n",
              "      <td>1</td>\n",
              "      <td>0</td>\n",
              "      <td>26.000000</td>\n",
              "      <td>0</td>\n",
              "      <td>0</td>\n",
              "      <td>30.0000</td>\n",
              "      <td>1</td>\n",
              "    </tr>\n",
              "    <tr>\n",
              "      <th>890</th>\n",
              "      <td>3</td>\n",
              "      <td>0</td>\n",
              "      <td>32.000000</td>\n",
              "      <td>0</td>\n",
              "      <td>0</td>\n",
              "      <td>7.7500</td>\n",
              "      <td>2</td>\n",
              "    </tr>\n",
              "  </tbody>\n",
              "</table>\n",
              "<p>891 rows × 7 columns</p>\n",
              "</div>\n",
              "    <div class=\"colab-df-buttons\">\n",
              "\n",
              "  <div class=\"colab-df-container\">\n",
              "    <button class=\"colab-df-convert\" onclick=\"convertToInteractive('df-027dba26-3b54-4716-93ac-b9b0642af8fc')\"\n",
              "            title=\"Convert this dataframe to an interactive table.\"\n",
              "            style=\"display:none;\">\n",
              "\n",
              "  <svg xmlns=\"http://www.w3.org/2000/svg\" height=\"24px\" viewBox=\"0 -960 960 960\">\n",
              "    <path d=\"M120-120v-720h720v720H120Zm60-500h600v-160H180v160Zm220 220h160v-160H400v160Zm0 220h160v-160H400v160ZM180-400h160v-160H180v160Zm440 0h160v-160H620v160ZM180-180h160v-160H180v160Zm440 0h160v-160H620v160Z\"/>\n",
              "  </svg>\n",
              "    </button>\n",
              "\n",
              "  <style>\n",
              "    .colab-df-container {\n",
              "      display:flex;\n",
              "      gap: 12px;\n",
              "    }\n",
              "\n",
              "    .colab-df-convert {\n",
              "      background-color: #E8F0FE;\n",
              "      border: none;\n",
              "      border-radius: 50%;\n",
              "      cursor: pointer;\n",
              "      display: none;\n",
              "      fill: #1967D2;\n",
              "      height: 32px;\n",
              "      padding: 0 0 0 0;\n",
              "      width: 32px;\n",
              "    }\n",
              "\n",
              "    .colab-df-convert:hover {\n",
              "      background-color: #E2EBFA;\n",
              "      box-shadow: 0px 1px 2px rgba(60, 64, 67, 0.3), 0px 1px 3px 1px rgba(60, 64, 67, 0.15);\n",
              "      fill: #174EA6;\n",
              "    }\n",
              "\n",
              "    .colab-df-buttons div {\n",
              "      margin-bottom: 4px;\n",
              "    }\n",
              "\n",
              "    [theme=dark] .colab-df-convert {\n",
              "      background-color: #3B4455;\n",
              "      fill: #D2E3FC;\n",
              "    }\n",
              "\n",
              "    [theme=dark] .colab-df-convert:hover {\n",
              "      background-color: #434B5C;\n",
              "      box-shadow: 0px 1px 3px 1px rgba(0, 0, 0, 0.15);\n",
              "      filter: drop-shadow(0px 1px 2px rgba(0, 0, 0, 0.3));\n",
              "      fill: #FFFFFF;\n",
              "    }\n",
              "  </style>\n",
              "\n",
              "    <script>\n",
              "      const buttonEl =\n",
              "        document.querySelector('#df-027dba26-3b54-4716-93ac-b9b0642af8fc button.colab-df-convert');\n",
              "      buttonEl.style.display =\n",
              "        google.colab.kernel.accessAllowed ? 'block' : 'none';\n",
              "\n",
              "      async function convertToInteractive(key) {\n",
              "        const element = document.querySelector('#df-027dba26-3b54-4716-93ac-b9b0642af8fc');\n",
              "        const dataTable =\n",
              "          await google.colab.kernel.invokeFunction('convertToInteractive',\n",
              "                                                    [key], {});\n",
              "        if (!dataTable) return;\n",
              "\n",
              "        const docLinkHtml = 'Like what you see? Visit the ' +\n",
              "          '<a target=\"_blank\" href=https://colab.research.google.com/notebooks/data_table.ipynb>data table notebook</a>'\n",
              "          + ' to learn more about interactive tables.';\n",
              "        element.innerHTML = '';\n",
              "        dataTable['output_type'] = 'display_data';\n",
              "        await google.colab.output.renderOutput(dataTable, element);\n",
              "        const docLink = document.createElement('div');\n",
              "        docLink.innerHTML = docLinkHtml;\n",
              "        element.appendChild(docLink);\n",
              "      }\n",
              "    </script>\n",
              "  </div>\n",
              "\n",
              "\n",
              "<div id=\"df-434b9bbb-dc49-4a76-9456-fa1395d67b53\">\n",
              "  <button class=\"colab-df-quickchart\" onclick=\"quickchart('df-434b9bbb-dc49-4a76-9456-fa1395d67b53')\"\n",
              "            title=\"Suggest charts\"\n",
              "            style=\"display:none;\">\n",
              "\n",
              "<svg xmlns=\"http://www.w3.org/2000/svg\" height=\"24px\"viewBox=\"0 0 24 24\"\n",
              "     width=\"24px\">\n",
              "    <g>\n",
              "        <path d=\"M19 3H5c-1.1 0-2 .9-2 2v14c0 1.1.9 2 2 2h14c1.1 0 2-.9 2-2V5c0-1.1-.9-2-2-2zM9 17H7v-7h2v7zm4 0h-2V7h2v10zm4 0h-2v-4h2v4z\"/>\n",
              "    </g>\n",
              "</svg>\n",
              "  </button>\n",
              "\n",
              "<style>\n",
              "  .colab-df-quickchart {\n",
              "      --bg-color: #E8F0FE;\n",
              "      --fill-color: #1967D2;\n",
              "      --hover-bg-color: #E2EBFA;\n",
              "      --hover-fill-color: #174EA6;\n",
              "      --disabled-fill-color: #AAA;\n",
              "      --disabled-bg-color: #DDD;\n",
              "  }\n",
              "\n",
              "  [theme=dark] .colab-df-quickchart {\n",
              "      --bg-color: #3B4455;\n",
              "      --fill-color: #D2E3FC;\n",
              "      --hover-bg-color: #434B5C;\n",
              "      --hover-fill-color: #FFFFFF;\n",
              "      --disabled-bg-color: #3B4455;\n",
              "      --disabled-fill-color: #666;\n",
              "  }\n",
              "\n",
              "  .colab-df-quickchart {\n",
              "    background-color: var(--bg-color);\n",
              "    border: none;\n",
              "    border-radius: 50%;\n",
              "    cursor: pointer;\n",
              "    display: none;\n",
              "    fill: var(--fill-color);\n",
              "    height: 32px;\n",
              "    padding: 0;\n",
              "    width: 32px;\n",
              "  }\n",
              "\n",
              "  .colab-df-quickchart:hover {\n",
              "    background-color: var(--hover-bg-color);\n",
              "    box-shadow: 0 1px 2px rgba(60, 64, 67, 0.3), 0 1px 3px 1px rgba(60, 64, 67, 0.15);\n",
              "    fill: var(--button-hover-fill-color);\n",
              "  }\n",
              "\n",
              "  .colab-df-quickchart-complete:disabled,\n",
              "  .colab-df-quickchart-complete:disabled:hover {\n",
              "    background-color: var(--disabled-bg-color);\n",
              "    fill: var(--disabled-fill-color);\n",
              "    box-shadow: none;\n",
              "  }\n",
              "\n",
              "  .colab-df-spinner {\n",
              "    border: 2px solid var(--fill-color);\n",
              "    border-color: transparent;\n",
              "    border-bottom-color: var(--fill-color);\n",
              "    animation:\n",
              "      spin 1s steps(1) infinite;\n",
              "  }\n",
              "\n",
              "  @keyframes spin {\n",
              "    0% {\n",
              "      border-color: transparent;\n",
              "      border-bottom-color: var(--fill-color);\n",
              "      border-left-color: var(--fill-color);\n",
              "    }\n",
              "    20% {\n",
              "      border-color: transparent;\n",
              "      border-left-color: var(--fill-color);\n",
              "      border-top-color: var(--fill-color);\n",
              "    }\n",
              "    30% {\n",
              "      border-color: transparent;\n",
              "      border-left-color: var(--fill-color);\n",
              "      border-top-color: var(--fill-color);\n",
              "      border-right-color: var(--fill-color);\n",
              "    }\n",
              "    40% {\n",
              "      border-color: transparent;\n",
              "      border-right-color: var(--fill-color);\n",
              "      border-top-color: var(--fill-color);\n",
              "    }\n",
              "    60% {\n",
              "      border-color: transparent;\n",
              "      border-right-color: var(--fill-color);\n",
              "    }\n",
              "    80% {\n",
              "      border-color: transparent;\n",
              "      border-right-color: var(--fill-color);\n",
              "      border-bottom-color: var(--fill-color);\n",
              "    }\n",
              "    90% {\n",
              "      border-color: transparent;\n",
              "      border-bottom-color: var(--fill-color);\n",
              "    }\n",
              "  }\n",
              "</style>\n",
              "\n",
              "  <script>\n",
              "    async function quickchart(key) {\n",
              "      const quickchartButtonEl =\n",
              "        document.querySelector('#' + key + ' button');\n",
              "      quickchartButtonEl.disabled = true;  // To prevent multiple clicks.\n",
              "      quickchartButtonEl.classList.add('colab-df-spinner');\n",
              "      try {\n",
              "        const charts = await google.colab.kernel.invokeFunction(\n",
              "            'suggestCharts', [key], {});\n",
              "      } catch (error) {\n",
              "        console.error('Error during call to suggestCharts:', error);\n",
              "      }\n",
              "      quickchartButtonEl.classList.remove('colab-df-spinner');\n",
              "      quickchartButtonEl.classList.add('colab-df-quickchart-complete');\n",
              "    }\n",
              "    (() => {\n",
              "      let quickchartButtonEl =\n",
              "        document.querySelector('#df-434b9bbb-dc49-4a76-9456-fa1395d67b53 button');\n",
              "      quickchartButtonEl.style.display =\n",
              "        google.colab.kernel.accessAllowed ? 'block' : 'none';\n",
              "    })();\n",
              "  </script>\n",
              "</div>\n",
              "\n",
              "  <div id=\"id_fe78859b-bd34-4236-a916-773eead79dcb\">\n",
              "    <style>\n",
              "      .colab-df-generate {\n",
              "        background-color: #E8F0FE;\n",
              "        border: none;\n",
              "        border-radius: 50%;\n",
              "        cursor: pointer;\n",
              "        display: none;\n",
              "        fill: #1967D2;\n",
              "        height: 32px;\n",
              "        padding: 0 0 0 0;\n",
              "        width: 32px;\n",
              "      }\n",
              "\n",
              "      .colab-df-generate:hover {\n",
              "        background-color: #E2EBFA;\n",
              "        box-shadow: 0px 1px 2px rgba(60, 64, 67, 0.3), 0px 1px 3px 1px rgba(60, 64, 67, 0.15);\n",
              "        fill: #174EA6;\n",
              "      }\n",
              "\n",
              "      [theme=dark] .colab-df-generate {\n",
              "        background-color: #3B4455;\n",
              "        fill: #D2E3FC;\n",
              "      }\n",
              "\n",
              "      [theme=dark] .colab-df-generate:hover {\n",
              "        background-color: #434B5C;\n",
              "        box-shadow: 0px 1px 3px 1px rgba(0, 0, 0, 0.15);\n",
              "        filter: drop-shadow(0px 1px 2px rgba(0, 0, 0, 0.3));\n",
              "        fill: #FFFFFF;\n",
              "      }\n",
              "    </style>\n",
              "    <button class=\"colab-df-generate\" onclick=\"generateWithVariable('x')\"\n",
              "            title=\"Generate code using this dataframe.\"\n",
              "            style=\"display:none;\">\n",
              "\n",
              "  <svg xmlns=\"http://www.w3.org/2000/svg\" height=\"24px\"viewBox=\"0 0 24 24\"\n",
              "       width=\"24px\">\n",
              "    <path d=\"M7,19H8.4L18.45,9,17,7.55,7,17.6ZM5,21V16.75L18.45,3.32a2,2,0,0,1,2.83,0l1.4,1.43a1.91,1.91,0,0,1,.58,1.4,1.91,1.91,0,0,1-.58,1.4L9.25,21ZM18.45,9,17,7.55Zm-12,3A5.31,5.31,0,0,0,4.9,8.1,5.31,5.31,0,0,0,1,6.5,5.31,5.31,0,0,0,4.9,4.9,5.31,5.31,0,0,0,6.5,1,5.31,5.31,0,0,0,8.1,4.9,5.31,5.31,0,0,0,12,6.5,5.46,5.46,0,0,0,6.5,12Z\"/>\n",
              "  </svg>\n",
              "    </button>\n",
              "    <script>\n",
              "      (() => {\n",
              "      const buttonEl =\n",
              "        document.querySelector('#id_fe78859b-bd34-4236-a916-773eead79dcb button.colab-df-generate');\n",
              "      buttonEl.style.display =\n",
              "        google.colab.kernel.accessAllowed ? 'block' : 'none';\n",
              "\n",
              "      buttonEl.onclick = () => {\n",
              "        google.colab.notebook.generateWithVariable('x');\n",
              "      }\n",
              "      })();\n",
              "    </script>\n",
              "  </div>\n",
              "\n",
              "    </div>\n",
              "  </div>\n"
            ],
            "application/vnd.google.colaboratory.intrinsic+json": {
              "type": "dataframe",
              "variable_name": "x",
              "summary": "{\n  \"name\": \"x\",\n  \"rows\": 891,\n  \"fields\": [\n    {\n      \"column\": \"Pclass\",\n      \"properties\": {\n        \"dtype\": \"number\",\n        \"std\": 0,\n        \"min\": 1,\n        \"max\": 3,\n        \"num_unique_values\": 3,\n        \"samples\": [\n          3,\n          1,\n          2\n        ],\n        \"semantic_type\": \"\",\n        \"description\": \"\"\n      }\n    },\n    {\n      \"column\": \"Sex\",\n      \"properties\": {\n        \"dtype\": \"number\",\n        \"std\": 0,\n        \"min\": 0,\n        \"max\": 1,\n        \"num_unique_values\": 2,\n        \"samples\": [\n          1,\n          0\n        ],\n        \"semantic_type\": \"\",\n        \"description\": \"\"\n      }\n    },\n    {\n      \"column\": \"Age\",\n      \"properties\": {\n        \"dtype\": \"number\",\n        \"std\": 13.002015226002882,\n        \"min\": 0.42,\n        \"max\": 80.0,\n        \"num_unique_values\": 89,\n        \"samples\": [\n          59.0,\n          36.5\n        ],\n        \"semantic_type\": \"\",\n        \"description\": \"\"\n      }\n    },\n    {\n      \"column\": \"SibSp\",\n      \"properties\": {\n        \"dtype\": \"number\",\n        \"std\": 1,\n        \"min\": 0,\n        \"max\": 8,\n        \"num_unique_values\": 7,\n        \"samples\": [\n          1,\n          0\n        ],\n        \"semantic_type\": \"\",\n        \"description\": \"\"\n      }\n    },\n    {\n      \"column\": \"Parch\",\n      \"properties\": {\n        \"dtype\": \"number\",\n        \"std\": 0,\n        \"min\": 0,\n        \"max\": 6,\n        \"num_unique_values\": 7,\n        \"samples\": [\n          0,\n          1\n        ],\n        \"semantic_type\": \"\",\n        \"description\": \"\"\n      }\n    },\n    {\n      \"column\": \"Fare\",\n      \"properties\": {\n        \"dtype\": \"number\",\n        \"std\": 49.6934285971809,\n        \"min\": 0.0,\n        \"max\": 512.3292,\n        \"num_unique_values\": 248,\n        \"samples\": [\n          11.2417,\n          51.8625\n        ],\n        \"semantic_type\": \"\",\n        \"description\": \"\"\n      }\n    },\n    {\n      \"column\": \"Embarked\",\n      \"properties\": {\n        \"dtype\": \"number\",\n        \"std\": 0,\n        \"min\": 0,\n        \"max\": 2,\n        \"num_unique_values\": 3,\n        \"samples\": [\n          0,\n          1\n        ],\n        \"semantic_type\": \"\",\n        \"description\": \"\"\n      }\n    }\n  ]\n}"
            }
          },
          "metadata": {},
          "execution_count": 95
        }
      ]
    },
    {
      "cell_type": "code",
      "source": [
        "y"
      ],
      "metadata": {
        "colab": {
          "base_uri": "https://localhost:8080/"
        },
        "id": "RxIfSweFbkTV",
        "outputId": "c2a114aa-dcde-4861-e9d2-bf63ed4bb420"
      },
      "execution_count": null,
      "outputs": [
        {
          "output_type": "execute_result",
          "data": {
            "text/plain": [
              "0      0\n",
              "1      1\n",
              "2      1\n",
              "3      1\n",
              "4      0\n",
              "      ..\n",
              "886    0\n",
              "887    1\n",
              "888    0\n",
              "889    1\n",
              "890    0\n",
              "Name: Survived, Length: 891, dtype: int64"
            ]
          },
          "metadata": {},
          "execution_count": 96
        }
      ]
    },
    {
      "cell_type": "code",
      "source": [
        "from sklearn.preprocessing import StandardScaler"
      ],
      "metadata": {
        "id": "wAuW0aJKlP5_"
      },
      "execution_count": null,
      "outputs": []
    },
    {
      "cell_type": "code",
      "source": [
        "scaler = StandardScaler()"
      ],
      "metadata": {
        "id": "VjppLz9blR0P"
      },
      "execution_count": null,
      "outputs": []
    },
    {
      "cell_type": "code",
      "source": [
        "features_to_scale = ['Age', 'Fare']"
      ],
      "metadata": {
        "id": "SJTc1DjPlKSQ"
      },
      "execution_count": null,
      "outputs": []
    },
    {
      "cell_type": "code",
      "source": [
        "x[features_to_scale] = scaler.fit_transform(x[features_to_scale])"
      ],
      "metadata": {
        "id": "86EA1pMElWfP"
      },
      "execution_count": null,
      "outputs": []
    },
    {
      "cell_type": "code",
      "source": [
        "x"
      ],
      "metadata": {
        "colab": {
          "base_uri": "https://localhost:8080/",
          "height": 423
        },
        "id": "Z-5VaFJblfPv",
        "outputId": "1d2a8708-7086-4aa3-b113-2820323cf20b"
      },
      "execution_count": null,
      "outputs": [
        {
          "output_type": "execute_result",
          "data": {
            "text/plain": [
              "     Pclass  Sex       Age  SibSp  Parch      Fare  Embarked\n",
              "0         3    0 -0.592481      1      0 -0.502445         0\n",
              "1         1    1  0.638789      1      0  0.786845         1\n",
              "2         3    1 -0.284663      0      0 -0.488854         0\n",
              "3         1    1  0.407926      1      0  0.420730         0\n",
              "4         3    0  0.407926      0      0 -0.486337         0\n",
              "..      ...  ...       ...    ...    ...       ...       ...\n",
              "886       2    0 -0.207709      0      0 -0.386671         0\n",
              "887       1    1 -0.823344      0      0 -0.044381         0\n",
              "888       3    1  0.000000      1      2 -0.176263         0\n",
              "889       1    0 -0.284663      0      0 -0.044381         1\n",
              "890       3    0  0.177063      0      0 -0.492378         2\n",
              "\n",
              "[891 rows x 7 columns]"
            ],
            "text/html": [
              "\n",
              "  <div id=\"df-191b72cf-7ec1-4ad1-8169-cb78c48ae341\" class=\"colab-df-container\">\n",
              "    <div>\n",
              "<style scoped>\n",
              "    .dataframe tbody tr th:only-of-type {\n",
              "        vertical-align: middle;\n",
              "    }\n",
              "\n",
              "    .dataframe tbody tr th {\n",
              "        vertical-align: top;\n",
              "    }\n",
              "\n",
              "    .dataframe thead th {\n",
              "        text-align: right;\n",
              "    }\n",
              "</style>\n",
              "<table border=\"1\" class=\"dataframe\">\n",
              "  <thead>\n",
              "    <tr style=\"text-align: right;\">\n",
              "      <th></th>\n",
              "      <th>Pclass</th>\n",
              "      <th>Sex</th>\n",
              "      <th>Age</th>\n",
              "      <th>SibSp</th>\n",
              "      <th>Parch</th>\n",
              "      <th>Fare</th>\n",
              "      <th>Embarked</th>\n",
              "    </tr>\n",
              "  </thead>\n",
              "  <tbody>\n",
              "    <tr>\n",
              "      <th>0</th>\n",
              "      <td>3</td>\n",
              "      <td>0</td>\n",
              "      <td>-0.592481</td>\n",
              "      <td>1</td>\n",
              "      <td>0</td>\n",
              "      <td>-0.502445</td>\n",
              "      <td>0</td>\n",
              "    </tr>\n",
              "    <tr>\n",
              "      <th>1</th>\n",
              "      <td>1</td>\n",
              "      <td>1</td>\n",
              "      <td>0.638789</td>\n",
              "      <td>1</td>\n",
              "      <td>0</td>\n",
              "      <td>0.786845</td>\n",
              "      <td>1</td>\n",
              "    </tr>\n",
              "    <tr>\n",
              "      <th>2</th>\n",
              "      <td>3</td>\n",
              "      <td>1</td>\n",
              "      <td>-0.284663</td>\n",
              "      <td>0</td>\n",
              "      <td>0</td>\n",
              "      <td>-0.488854</td>\n",
              "      <td>0</td>\n",
              "    </tr>\n",
              "    <tr>\n",
              "      <th>3</th>\n",
              "      <td>1</td>\n",
              "      <td>1</td>\n",
              "      <td>0.407926</td>\n",
              "      <td>1</td>\n",
              "      <td>0</td>\n",
              "      <td>0.420730</td>\n",
              "      <td>0</td>\n",
              "    </tr>\n",
              "    <tr>\n",
              "      <th>4</th>\n",
              "      <td>3</td>\n",
              "      <td>0</td>\n",
              "      <td>0.407926</td>\n",
              "      <td>0</td>\n",
              "      <td>0</td>\n",
              "      <td>-0.486337</td>\n",
              "      <td>0</td>\n",
              "    </tr>\n",
              "    <tr>\n",
              "      <th>...</th>\n",
              "      <td>...</td>\n",
              "      <td>...</td>\n",
              "      <td>...</td>\n",
              "      <td>...</td>\n",
              "      <td>...</td>\n",
              "      <td>...</td>\n",
              "      <td>...</td>\n",
              "    </tr>\n",
              "    <tr>\n",
              "      <th>886</th>\n",
              "      <td>2</td>\n",
              "      <td>0</td>\n",
              "      <td>-0.207709</td>\n",
              "      <td>0</td>\n",
              "      <td>0</td>\n",
              "      <td>-0.386671</td>\n",
              "      <td>0</td>\n",
              "    </tr>\n",
              "    <tr>\n",
              "      <th>887</th>\n",
              "      <td>1</td>\n",
              "      <td>1</td>\n",
              "      <td>-0.823344</td>\n",
              "      <td>0</td>\n",
              "      <td>0</td>\n",
              "      <td>-0.044381</td>\n",
              "      <td>0</td>\n",
              "    </tr>\n",
              "    <tr>\n",
              "      <th>888</th>\n",
              "      <td>3</td>\n",
              "      <td>1</td>\n",
              "      <td>0.000000</td>\n",
              "      <td>1</td>\n",
              "      <td>2</td>\n",
              "      <td>-0.176263</td>\n",
              "      <td>0</td>\n",
              "    </tr>\n",
              "    <tr>\n",
              "      <th>889</th>\n",
              "      <td>1</td>\n",
              "      <td>0</td>\n",
              "      <td>-0.284663</td>\n",
              "      <td>0</td>\n",
              "      <td>0</td>\n",
              "      <td>-0.044381</td>\n",
              "      <td>1</td>\n",
              "    </tr>\n",
              "    <tr>\n",
              "      <th>890</th>\n",
              "      <td>3</td>\n",
              "      <td>0</td>\n",
              "      <td>0.177063</td>\n",
              "      <td>0</td>\n",
              "      <td>0</td>\n",
              "      <td>-0.492378</td>\n",
              "      <td>2</td>\n",
              "    </tr>\n",
              "  </tbody>\n",
              "</table>\n",
              "<p>891 rows × 7 columns</p>\n",
              "</div>\n",
              "    <div class=\"colab-df-buttons\">\n",
              "\n",
              "  <div class=\"colab-df-container\">\n",
              "    <button class=\"colab-df-convert\" onclick=\"convertToInteractive('df-191b72cf-7ec1-4ad1-8169-cb78c48ae341')\"\n",
              "            title=\"Convert this dataframe to an interactive table.\"\n",
              "            style=\"display:none;\">\n",
              "\n",
              "  <svg xmlns=\"http://www.w3.org/2000/svg\" height=\"24px\" viewBox=\"0 -960 960 960\">\n",
              "    <path d=\"M120-120v-720h720v720H120Zm60-500h600v-160H180v160Zm220 220h160v-160H400v160Zm0 220h160v-160H400v160ZM180-400h160v-160H180v160Zm440 0h160v-160H620v160ZM180-180h160v-160H180v160Zm440 0h160v-160H620v160Z\"/>\n",
              "  </svg>\n",
              "    </button>\n",
              "\n",
              "  <style>\n",
              "    .colab-df-container {\n",
              "      display:flex;\n",
              "      gap: 12px;\n",
              "    }\n",
              "\n",
              "    .colab-df-convert {\n",
              "      background-color: #E8F0FE;\n",
              "      border: none;\n",
              "      border-radius: 50%;\n",
              "      cursor: pointer;\n",
              "      display: none;\n",
              "      fill: #1967D2;\n",
              "      height: 32px;\n",
              "      padding: 0 0 0 0;\n",
              "      width: 32px;\n",
              "    }\n",
              "\n",
              "    .colab-df-convert:hover {\n",
              "      background-color: #E2EBFA;\n",
              "      box-shadow: 0px 1px 2px rgba(60, 64, 67, 0.3), 0px 1px 3px 1px rgba(60, 64, 67, 0.15);\n",
              "      fill: #174EA6;\n",
              "    }\n",
              "\n",
              "    .colab-df-buttons div {\n",
              "      margin-bottom: 4px;\n",
              "    }\n",
              "\n",
              "    [theme=dark] .colab-df-convert {\n",
              "      background-color: #3B4455;\n",
              "      fill: #D2E3FC;\n",
              "    }\n",
              "\n",
              "    [theme=dark] .colab-df-convert:hover {\n",
              "      background-color: #434B5C;\n",
              "      box-shadow: 0px 1px 3px 1px rgba(0, 0, 0, 0.15);\n",
              "      filter: drop-shadow(0px 1px 2px rgba(0, 0, 0, 0.3));\n",
              "      fill: #FFFFFF;\n",
              "    }\n",
              "  </style>\n",
              "\n",
              "    <script>\n",
              "      const buttonEl =\n",
              "        document.querySelector('#df-191b72cf-7ec1-4ad1-8169-cb78c48ae341 button.colab-df-convert');\n",
              "      buttonEl.style.display =\n",
              "        google.colab.kernel.accessAllowed ? 'block' : 'none';\n",
              "\n",
              "      async function convertToInteractive(key) {\n",
              "        const element = document.querySelector('#df-191b72cf-7ec1-4ad1-8169-cb78c48ae341');\n",
              "        const dataTable =\n",
              "          await google.colab.kernel.invokeFunction('convertToInteractive',\n",
              "                                                    [key], {});\n",
              "        if (!dataTable) return;\n",
              "\n",
              "        const docLinkHtml = 'Like what you see? Visit the ' +\n",
              "          '<a target=\"_blank\" href=https://colab.research.google.com/notebooks/data_table.ipynb>data table notebook</a>'\n",
              "          + ' to learn more about interactive tables.';\n",
              "        element.innerHTML = '';\n",
              "        dataTable['output_type'] = 'display_data';\n",
              "        await google.colab.output.renderOutput(dataTable, element);\n",
              "        const docLink = document.createElement('div');\n",
              "        docLink.innerHTML = docLinkHtml;\n",
              "        element.appendChild(docLink);\n",
              "      }\n",
              "    </script>\n",
              "  </div>\n",
              "\n",
              "\n",
              "<div id=\"df-1caa5a99-39f9-4b85-95a4-2f148eaf446a\">\n",
              "  <button class=\"colab-df-quickchart\" onclick=\"quickchart('df-1caa5a99-39f9-4b85-95a4-2f148eaf446a')\"\n",
              "            title=\"Suggest charts\"\n",
              "            style=\"display:none;\">\n",
              "\n",
              "<svg xmlns=\"http://www.w3.org/2000/svg\" height=\"24px\"viewBox=\"0 0 24 24\"\n",
              "     width=\"24px\">\n",
              "    <g>\n",
              "        <path d=\"M19 3H5c-1.1 0-2 .9-2 2v14c0 1.1.9 2 2 2h14c1.1 0 2-.9 2-2V5c0-1.1-.9-2-2-2zM9 17H7v-7h2v7zm4 0h-2V7h2v10zm4 0h-2v-4h2v4z\"/>\n",
              "    </g>\n",
              "</svg>\n",
              "  </button>\n",
              "\n",
              "<style>\n",
              "  .colab-df-quickchart {\n",
              "      --bg-color: #E8F0FE;\n",
              "      --fill-color: #1967D2;\n",
              "      --hover-bg-color: #E2EBFA;\n",
              "      --hover-fill-color: #174EA6;\n",
              "      --disabled-fill-color: #AAA;\n",
              "      --disabled-bg-color: #DDD;\n",
              "  }\n",
              "\n",
              "  [theme=dark] .colab-df-quickchart {\n",
              "      --bg-color: #3B4455;\n",
              "      --fill-color: #D2E3FC;\n",
              "      --hover-bg-color: #434B5C;\n",
              "      --hover-fill-color: #FFFFFF;\n",
              "      --disabled-bg-color: #3B4455;\n",
              "      --disabled-fill-color: #666;\n",
              "  }\n",
              "\n",
              "  .colab-df-quickchart {\n",
              "    background-color: var(--bg-color);\n",
              "    border: none;\n",
              "    border-radius: 50%;\n",
              "    cursor: pointer;\n",
              "    display: none;\n",
              "    fill: var(--fill-color);\n",
              "    height: 32px;\n",
              "    padding: 0;\n",
              "    width: 32px;\n",
              "  }\n",
              "\n",
              "  .colab-df-quickchart:hover {\n",
              "    background-color: var(--hover-bg-color);\n",
              "    box-shadow: 0 1px 2px rgba(60, 64, 67, 0.3), 0 1px 3px 1px rgba(60, 64, 67, 0.15);\n",
              "    fill: var(--button-hover-fill-color);\n",
              "  }\n",
              "\n",
              "  .colab-df-quickchart-complete:disabled,\n",
              "  .colab-df-quickchart-complete:disabled:hover {\n",
              "    background-color: var(--disabled-bg-color);\n",
              "    fill: var(--disabled-fill-color);\n",
              "    box-shadow: none;\n",
              "  }\n",
              "\n",
              "  .colab-df-spinner {\n",
              "    border: 2px solid var(--fill-color);\n",
              "    border-color: transparent;\n",
              "    border-bottom-color: var(--fill-color);\n",
              "    animation:\n",
              "      spin 1s steps(1) infinite;\n",
              "  }\n",
              "\n",
              "  @keyframes spin {\n",
              "    0% {\n",
              "      border-color: transparent;\n",
              "      border-bottom-color: var(--fill-color);\n",
              "      border-left-color: var(--fill-color);\n",
              "    }\n",
              "    20% {\n",
              "      border-color: transparent;\n",
              "      border-left-color: var(--fill-color);\n",
              "      border-top-color: var(--fill-color);\n",
              "    }\n",
              "    30% {\n",
              "      border-color: transparent;\n",
              "      border-left-color: var(--fill-color);\n",
              "      border-top-color: var(--fill-color);\n",
              "      border-right-color: var(--fill-color);\n",
              "    }\n",
              "    40% {\n",
              "      border-color: transparent;\n",
              "      border-right-color: var(--fill-color);\n",
              "      border-top-color: var(--fill-color);\n",
              "    }\n",
              "    60% {\n",
              "      border-color: transparent;\n",
              "      border-right-color: var(--fill-color);\n",
              "    }\n",
              "    80% {\n",
              "      border-color: transparent;\n",
              "      border-right-color: var(--fill-color);\n",
              "      border-bottom-color: var(--fill-color);\n",
              "    }\n",
              "    90% {\n",
              "      border-color: transparent;\n",
              "      border-bottom-color: var(--fill-color);\n",
              "    }\n",
              "  }\n",
              "</style>\n",
              "\n",
              "  <script>\n",
              "    async function quickchart(key) {\n",
              "      const quickchartButtonEl =\n",
              "        document.querySelector('#' + key + ' button');\n",
              "      quickchartButtonEl.disabled = true;  // To prevent multiple clicks.\n",
              "      quickchartButtonEl.classList.add('colab-df-spinner');\n",
              "      try {\n",
              "        const charts = await google.colab.kernel.invokeFunction(\n",
              "            'suggestCharts', [key], {});\n",
              "      } catch (error) {\n",
              "        console.error('Error during call to suggestCharts:', error);\n",
              "      }\n",
              "      quickchartButtonEl.classList.remove('colab-df-spinner');\n",
              "      quickchartButtonEl.classList.add('colab-df-quickchart-complete');\n",
              "    }\n",
              "    (() => {\n",
              "      let quickchartButtonEl =\n",
              "        document.querySelector('#df-1caa5a99-39f9-4b85-95a4-2f148eaf446a button');\n",
              "      quickchartButtonEl.style.display =\n",
              "        google.colab.kernel.accessAllowed ? 'block' : 'none';\n",
              "    })();\n",
              "  </script>\n",
              "</div>\n",
              "\n",
              "  <div id=\"id_9ffce7c8-fab8-4be0-9333-d6618df41d50\">\n",
              "    <style>\n",
              "      .colab-df-generate {\n",
              "        background-color: #E8F0FE;\n",
              "        border: none;\n",
              "        border-radius: 50%;\n",
              "        cursor: pointer;\n",
              "        display: none;\n",
              "        fill: #1967D2;\n",
              "        height: 32px;\n",
              "        padding: 0 0 0 0;\n",
              "        width: 32px;\n",
              "      }\n",
              "\n",
              "      .colab-df-generate:hover {\n",
              "        background-color: #E2EBFA;\n",
              "        box-shadow: 0px 1px 2px rgba(60, 64, 67, 0.3), 0px 1px 3px 1px rgba(60, 64, 67, 0.15);\n",
              "        fill: #174EA6;\n",
              "      }\n",
              "\n",
              "      [theme=dark] .colab-df-generate {\n",
              "        background-color: #3B4455;\n",
              "        fill: #D2E3FC;\n",
              "      }\n",
              "\n",
              "      [theme=dark] .colab-df-generate:hover {\n",
              "        background-color: #434B5C;\n",
              "        box-shadow: 0px 1px 3px 1px rgba(0, 0, 0, 0.15);\n",
              "        filter: drop-shadow(0px 1px 2px rgba(0, 0, 0, 0.3));\n",
              "        fill: #FFFFFF;\n",
              "      }\n",
              "    </style>\n",
              "    <button class=\"colab-df-generate\" onclick=\"generateWithVariable('x')\"\n",
              "            title=\"Generate code using this dataframe.\"\n",
              "            style=\"display:none;\">\n",
              "\n",
              "  <svg xmlns=\"http://www.w3.org/2000/svg\" height=\"24px\"viewBox=\"0 0 24 24\"\n",
              "       width=\"24px\">\n",
              "    <path d=\"M7,19H8.4L18.45,9,17,7.55,7,17.6ZM5,21V16.75L18.45,3.32a2,2,0,0,1,2.83,0l1.4,1.43a1.91,1.91,0,0,1,.58,1.4,1.91,1.91,0,0,1-.58,1.4L9.25,21ZM18.45,9,17,7.55Zm-12,3A5.31,5.31,0,0,0,4.9,8.1,5.31,5.31,0,0,0,1,6.5,5.31,5.31,0,0,0,4.9,4.9,5.31,5.31,0,0,0,6.5,1,5.31,5.31,0,0,0,8.1,4.9,5.31,5.31,0,0,0,12,6.5,5.46,5.46,0,0,0,6.5,12Z\"/>\n",
              "  </svg>\n",
              "    </button>\n",
              "    <script>\n",
              "      (() => {\n",
              "      const buttonEl =\n",
              "        document.querySelector('#id_9ffce7c8-fab8-4be0-9333-d6618df41d50 button.colab-df-generate');\n",
              "      buttonEl.style.display =\n",
              "        google.colab.kernel.accessAllowed ? 'block' : 'none';\n",
              "\n",
              "      buttonEl.onclick = () => {\n",
              "        google.colab.notebook.generateWithVariable('x');\n",
              "      }\n",
              "      })();\n",
              "    </script>\n",
              "  </div>\n",
              "\n",
              "    </div>\n",
              "  </div>\n"
            ],
            "application/vnd.google.colaboratory.intrinsic+json": {
              "type": "dataframe",
              "variable_name": "x",
              "summary": "{\n  \"name\": \"x\",\n  \"rows\": 891,\n  \"fields\": [\n    {\n      \"column\": \"Pclass\",\n      \"properties\": {\n        \"dtype\": \"number\",\n        \"std\": 0,\n        \"min\": 1,\n        \"max\": 3,\n        \"num_unique_values\": 3,\n        \"samples\": [\n          3,\n          1,\n          2\n        ],\n        \"semantic_type\": \"\",\n        \"description\": \"\"\n      }\n    },\n    {\n      \"column\": \"Sex\",\n      \"properties\": {\n        \"dtype\": \"number\",\n        \"std\": 0,\n        \"min\": 0,\n        \"max\": 1,\n        \"num_unique_values\": 2,\n        \"samples\": [\n          1,\n          0\n        ],\n        \"semantic_type\": \"\",\n        \"description\": \"\"\n      }\n    },\n    {\n      \"column\": \"Age\",\n      \"properties\": {\n        \"dtype\": \"number\",\n        \"std\": 1.0005616400330457,\n        \"min\": -2.2531554887793948,\n        \"max\": 3.8708717431367323,\n        \"num_unique_values\": 89,\n        \"samples\": [\n          2.2548303775896263,\n          0.5233574859320133\n        ],\n        \"semantic_type\": \"\",\n        \"description\": \"\"\n      }\n    },\n    {\n      \"column\": \"SibSp\",\n      \"properties\": {\n        \"dtype\": \"number\",\n        \"std\": 1,\n        \"min\": 0,\n        \"max\": 8,\n        \"num_unique_values\": 7,\n        \"samples\": [\n          1,\n          0\n        ],\n        \"semantic_type\": \"\",\n        \"description\": \"\"\n      }\n    },\n    {\n      \"column\": \"Parch\",\n      \"properties\": {\n        \"dtype\": \"number\",\n        \"std\": 0,\n        \"min\": 0,\n        \"max\": 6,\n        \"num_unique_values\": 7,\n        \"samples\": [\n          0,\n          1\n        ],\n        \"semantic_type\": \"\",\n        \"description\": \"\"\n      }\n    },\n    {\n      \"column\": \"Fare\",\n      \"properties\": {\n        \"dtype\": \"number\",\n        \"std\": 1.0005616400330457,\n        \"min\": -0.6484216535389205,\n        \"max\": 9.667166525013505,\n        \"num_unique_values\": 248,\n        \"samples\": [\n          -0.42207354059350805,\n          0.395813560675251\n        ],\n        \"semantic_type\": \"\",\n        \"description\": \"\"\n      }\n    },\n    {\n      \"column\": \"Embarked\",\n      \"properties\": {\n        \"dtype\": \"number\",\n        \"std\": 0,\n        \"min\": 0,\n        \"max\": 2,\n        \"num_unique_values\": 3,\n        \"samples\": [\n          0,\n          1\n        ],\n        \"semantic_type\": \"\",\n        \"description\": \"\"\n      }\n    }\n  ]\n}"
            }
          },
          "metadata": {},
          "execution_count": 115
        }
      ]
    },
    {
      "cell_type": "markdown",
      "source": [
        "#Splitting the data"
      ],
      "metadata": {
        "id": "7viXJYdabpdz"
      }
    },
    {
      "cell_type": "markdown",
      "source": [
        "splitting the data using train test split into 80:20 ratio"
      ],
      "metadata": {
        "id": "_4NMKTeTdVW0"
      }
    },
    {
      "cell_type": "code",
      "source": [
        "x_train,x_test,y_train,y_test = train_test_split(x,y,test_size = 0.2 , random_state = 2)"
      ],
      "metadata": {
        "id": "PnkJCHaeblId"
      },
      "execution_count": null,
      "outputs": []
    },
    {
      "cell_type": "code",
      "source": [
        "print(x.shape,x_train.shape,x_test.shape)"
      ],
      "metadata": {
        "colab": {
          "base_uri": "https://localhost:8080/"
        },
        "id": "fRTPV7vvdM-N",
        "outputId": "71d9c3d0-4eef-4978-b21f-7e129f8c3c94"
      },
      "execution_count": null,
      "outputs": [
        {
          "output_type": "stream",
          "name": "stdout",
          "text": [
            "(891, 7) (712, 7) (179, 7)\n"
          ]
        }
      ]
    },
    {
      "cell_type": "markdown",
      "source": [
        "#Building and training Model"
      ],
      "metadata": {
        "id": "DsjykrIlftWz"
      }
    },
    {
      "cell_type": "markdown",
      "source": [
        "![image.png](data:image/png;base64,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)"
      ],
      "metadata": {
        "id": "syjWQktIf_N_"
      }
    },
    {
      "cell_type": "markdown",
      "source": [
        "X = input features\n",
        "\n",
        "w = eights\n",
        "\n",
        "b = bias\n",
        "\n",
        "Y = Prediction probability.it will lie between 0 and 1"
      ],
      "metadata": {
        "id": "F19zTu2MgTny"
      }
    },
    {
      "cell_type": "markdown",
      "source": [
        "when we give the data to the logistic regression model it builds a sigmoid function and then finds a threshold value."
      ],
      "metadata": {
        "id": "Nd9UTbwzglOT"
      }
    },
    {
      "cell_type": "markdown",
      "source": [
        "then for new input values if the y value is greater thean 0.5 then it would be considered as 1 i.e in our case survived else 0 i.e in our case not survived. therefor elogistic regression is a great model for binary classification"
      ],
      "metadata": {
        "id": "0OKy94Iogv8M"
      }
    },
    {
      "cell_type": "code",
      "source": [
        "model = LogisticRegression() #loading the instance of model"
      ],
      "metadata": {
        "id": "suIjcviGfpD9"
      },
      "execution_count": null,
      "outputs": []
    },
    {
      "cell_type": "code",
      "source": [
        "#Training the model on training data\n",
        "\n",
        "model.fit(x_train,y_train)"
      ],
      "metadata": {
        "colab": {
          "base_uri": "https://localhost:8080/",
          "height": 74
        },
        "id": "fSMVwcHehQ98",
        "outputId": "347f030e-1aaf-423b-8d1e-1e76b3263bae"
      },
      "execution_count": null,
      "outputs": [
        {
          "output_type": "execute_result",
          "data": {
            "text/plain": [
              "LogisticRegression()"
            ],
            "text/html": [
              "<style>#sk-container-id-2 {color: black;}#sk-container-id-2 pre{padding: 0;}#sk-container-id-2 div.sk-toggleable {background-color: white;}#sk-container-id-2 label.sk-toggleable__label {cursor: pointer;display: block;width: 100%;margin-bottom: 0;padding: 0.3em;box-sizing: border-box;text-align: center;}#sk-container-id-2 label.sk-toggleable__label-arrow:before {content: \"▸\";float: left;margin-right: 0.25em;color: #696969;}#sk-container-id-2 label.sk-toggleable__label-arrow:hover:before {color: black;}#sk-container-id-2 div.sk-estimator:hover label.sk-toggleable__label-arrow:before {color: black;}#sk-container-id-2 div.sk-toggleable__content {max-height: 0;max-width: 0;overflow: hidden;text-align: left;background-color: #f0f8ff;}#sk-container-id-2 div.sk-toggleable__content pre {margin: 0.2em;color: black;border-radius: 0.25em;background-color: #f0f8ff;}#sk-container-id-2 input.sk-toggleable__control:checked~div.sk-toggleable__content {max-height: 200px;max-width: 100%;overflow: auto;}#sk-container-id-2 input.sk-toggleable__control:checked~label.sk-toggleable__label-arrow:before {content: \"▾\";}#sk-container-id-2 div.sk-estimator input.sk-toggleable__control:checked~label.sk-toggleable__label {background-color: #d4ebff;}#sk-container-id-2 div.sk-label input.sk-toggleable__control:checked~label.sk-toggleable__label {background-color: #d4ebff;}#sk-container-id-2 input.sk-hidden--visually {border: 0;clip: rect(1px 1px 1px 1px);clip: rect(1px, 1px, 1px, 1px);height: 1px;margin: -1px;overflow: hidden;padding: 0;position: absolute;width: 1px;}#sk-container-id-2 div.sk-estimator {font-family: monospace;background-color: #f0f8ff;border: 1px dotted black;border-radius: 0.25em;box-sizing: border-box;margin-bottom: 0.5em;}#sk-container-id-2 div.sk-estimator:hover {background-color: #d4ebff;}#sk-container-id-2 div.sk-parallel-item::after {content: \"\";width: 100%;border-bottom: 1px solid gray;flex-grow: 1;}#sk-container-id-2 div.sk-label:hover label.sk-toggleable__label {background-color: #d4ebff;}#sk-container-id-2 div.sk-serial::before {content: \"\";position: absolute;border-left: 1px solid gray;box-sizing: border-box;top: 0;bottom: 0;left: 50%;z-index: 0;}#sk-container-id-2 div.sk-serial {display: flex;flex-direction: column;align-items: center;background-color: white;padding-right: 0.2em;padding-left: 0.2em;position: relative;}#sk-container-id-2 div.sk-item {position: relative;z-index: 1;}#sk-container-id-2 div.sk-parallel {display: flex;align-items: stretch;justify-content: center;background-color: white;position: relative;}#sk-container-id-2 div.sk-item::before, #sk-container-id-2 div.sk-parallel-item::before {content: \"\";position: absolute;border-left: 1px solid gray;box-sizing: border-box;top: 0;bottom: 0;left: 50%;z-index: -1;}#sk-container-id-2 div.sk-parallel-item {display: flex;flex-direction: column;z-index: 1;position: relative;background-color: white;}#sk-container-id-2 div.sk-parallel-item:first-child::after {align-self: flex-end;width: 50%;}#sk-container-id-2 div.sk-parallel-item:last-child::after {align-self: flex-start;width: 50%;}#sk-container-id-2 div.sk-parallel-item:only-child::after {width: 0;}#sk-container-id-2 div.sk-dashed-wrapped {border: 1px dashed gray;margin: 0 0.4em 0.5em 0.4em;box-sizing: border-box;padding-bottom: 0.4em;background-color: white;}#sk-container-id-2 div.sk-label label {font-family: monospace;font-weight: bold;display: inline-block;line-height: 1.2em;}#sk-container-id-2 div.sk-label-container {text-align: center;}#sk-container-id-2 div.sk-container {/* jupyter's `normalize.less` sets `[hidden] { display: none; }` but bootstrap.min.css set `[hidden] { display: none !important; }` so we also need the `!important` here to be able to override the default hidden behavior on the sphinx rendered scikit-learn.org. See: https://github.com/scikit-learn/scikit-learn/issues/21755 */display: inline-block !important;position: relative;}#sk-container-id-2 div.sk-text-repr-fallback {display: none;}</style><div id=\"sk-container-id-2\" class=\"sk-top-container\"><div class=\"sk-text-repr-fallback\"><pre>LogisticRegression()</pre><b>In a Jupyter environment, please rerun this cell to show the HTML representation or trust the notebook. <br />On GitHub, the HTML representation is unable to render, please try loading this page with nbviewer.org.</b></div><div class=\"sk-container\" hidden><div class=\"sk-item\"><div class=\"sk-estimator sk-toggleable\"><input class=\"sk-toggleable__control sk-hidden--visually\" id=\"sk-estimator-id-2\" type=\"checkbox\" checked><label for=\"sk-estimator-id-2\" class=\"sk-toggleable__label sk-toggleable__label-arrow\">LogisticRegression</label><div class=\"sk-toggleable__content\"><pre>LogisticRegression()</pre></div></div></div></div></div>"
            ]
          },
          "metadata": {},
          "execution_count": 119
        }
      ]
    },
    {
      "cell_type": "markdown",
      "source": [
        "#Evaluating the model"
      ],
      "metadata": {
        "id": "OpiTKJUYhfql"
      }
    },
    {
      "cell_type": "code",
      "source": [
        "#Accuracy on training data\n",
        "x_train_prediction = model.predict(x_train)"
      ],
      "metadata": {
        "id": "VU-tSJmvhYiI"
      },
      "execution_count": null,
      "outputs": []
    },
    {
      "cell_type": "code",
      "source": [
        "training_data_accuracy = accuracy_score(y_train,x_train_prediction)"
      ],
      "metadata": {
        "id": "Ug_QxLFAhrjT"
      },
      "execution_count": null,
      "outputs": []
    },
    {
      "cell_type": "code",
      "source": [
        "print(training_data_accuracy)"
      ],
      "metadata": {
        "colab": {
          "base_uri": "https://localhost:8080/"
        },
        "id": "QQ8QSPE5h38P",
        "outputId": "78c47419-55b6-47be-8cba-d8cdefdbccaf"
      },
      "execution_count": null,
      "outputs": [
        {
          "output_type": "stream",
          "name": "stdout",
          "text": [
            "0.8103932584269663\n"
          ]
        }
      ]
    },
    {
      "cell_type": "markdown",
      "source": [
        "Accuracy Score on training data is 81%"
      ],
      "metadata": {
        "id": "p9mVJ_5sh9u2"
      }
    },
    {
      "cell_type": "code",
      "source": [
        "#Accuracy score on test data\n",
        "x_test_prediction = model.predict(x_test)"
      ],
      "metadata": {
        "id": "bvRRCa8mh6c8"
      },
      "execution_count": null,
      "outputs": []
    },
    {
      "cell_type": "code",
      "source": [
        "test_data_accuracy = accuracy_score(y_test,x_test_prediction)"
      ],
      "metadata": {
        "id": "HQUcdZfeiIqI"
      },
      "execution_count": null,
      "outputs": []
    },
    {
      "cell_type": "code",
      "source": [
        "print(test_data_accuracy)"
      ],
      "metadata": {
        "colab": {
          "base_uri": "https://localhost:8080/"
        },
        "id": "IHpy9Yk-iLsm",
        "outputId": "54a0e887-3f88-4e0f-d95b-e8d149c6c34b"
      },
      "execution_count": null,
      "outputs": [
        {
          "output_type": "stream",
          "name": "stdout",
          "text": [
            "0.7821229050279329\n"
          ]
        }
      ]
    },
    {
      "cell_type": "markdown",
      "source": [
        "we got a 78.21% accuracy on test data"
      ],
      "metadata": {
        "id": "h9hxzdCciQem"
      }
    },
    {
      "cell_type": "code",
      "source": [
        "from sklearn.metrics import confusion_matrix, precision_score, recall_score, f1_score, classification_report"
      ],
      "metadata": {
        "id": "qR6w2HZ3iPK5"
      },
      "execution_count": null,
      "outputs": []
    },
    {
      "cell_type": "code",
      "source": [
        "print(\"\\nClassification Report:\")\n",
        "print(classification_report(y_test, x_test_prediction))"
      ],
      "metadata": {
        "colab": {
          "base_uri": "https://localhost:8080/"
        },
        "id": "8trKPhI8mfh_",
        "outputId": "3d420027-1604-4b8b-b5c1-3c5d94686ec5"
      },
      "execution_count": null,
      "outputs": [
        {
          "output_type": "stream",
          "name": "stdout",
          "text": [
            "\n",
            "Classification Report:\n",
            "              precision    recall  f1-score   support\n",
            "\n",
            "           0       0.75      0.91      0.82       100\n",
            "           1       0.84      0.62      0.72        79\n",
            "\n",
            "    accuracy                           0.78       179\n",
            "   macro avg       0.80      0.77      0.77       179\n",
            "weighted avg       0.79      0.78      0.78       179\n",
            "\n"
          ]
        }
      ]
    },
    {
      "cell_type": "code",
      "source": [
        "cm = confusion_matrix(y_test,x_test_prediction)"
      ],
      "metadata": {
        "id": "qHpMvch6nA51"
      },
      "execution_count": null,
      "outputs": []
    },
    {
      "cell_type": "code",
      "source": [
        "# Plot confusion matrix\n",
        "plt.figure(figsize=(8, 6))\n",
        "sns.heatmap(cm, annot=True, fmt='d', cmap='Blues',\n",
        "            xticklabels=['Not Survived', 'Survived'],\n",
        "            yticklabels=['Not Survived', 'Survived'])\n",
        "plt.xlabel('Predicted')\n",
        "plt.ylabel('True')\n",
        "plt.title('Confusion Matrix')\n",
        "plt.show()"
      ],
      "metadata": {
        "colab": {
          "base_uri": "https://localhost:8080/",
          "height": 573
        },
        "id": "gDDOZvvMmyFA",
        "outputId": "8fea10a3-f703-48b9-ab96-13b40546b27a"
      },
      "execution_count": null,
      "outputs": [
        {
          "output_type": "display_data",
          "data": {
            "text/plain": [
              "<Figure size 800x600 with 2 Axes>"
            ],
            "image/png": "[encoded data removed]"
          },
          "metadata": {}
        }
      ]
    },
    {
      "cell_type": "code",
      "source": [
        "print(\"Precision: \", precision_score(y_test, x_test_prediction))\n",
        "print(\"Recall: \", recall_score(y_test, x_test_prediction))\n",
        "print(\"F1 Score: \", f1_score(y_test, x_test_prediction))"
      ],
      "metadata": {
        "colab": {
          "base_uri": "https://localhost:8080/"
        },
        "id": "muWElN2hmboQ",
        "outputId": "348d30ec-e783-4c82-89c5-238311839d65"
      },
      "execution_count": null,
      "outputs": [
        {
          "output_type": "stream",
          "name": "stdout",
          "text": [
            "Precision:  0.8448275862068966\n",
            "Recall:  0.620253164556962\n",
            "F1 Score:  0.7153284671532847\n"
          ]
        }
      ]
    },
    {
      "cell_type": "code",
      "source": [
        "coefficients = model.coef_[0]\n",
        "feature_names = x.columns\n",
        "coef_df = pd.DataFrame({'Feature': feature_names, 'Coefficient': coefficients})\n",
        "coef_df = coef_df.sort_values(by='Coefficient', ascending=False)\n",
        "print(coef_df)"
      ],
      "metadata": {
        "colab": {
          "base_uri": "https://localhost:8080/"
        },
        "id": "ncV5F-eTnJC8",
        "outputId": "8674b8dc-d44f-47f8-c4ac-7e990457412a"
      },
      "execution_count": null,
      "outputs": [
        {
          "output_type": "stream",
          "name": "stdout",
          "text": [
            "    Feature  Coefficient\n",
            "1       Sex     2.671766\n",
            "6  Embarked     0.219438\n",
            "5      Fare     0.126968\n",
            "4     Parch    -0.020932\n",
            "3     SibSp    -0.394195\n",
            "2       Age    -0.580538\n",
            "0    Pclass    -1.098430\n"
          ]
        }
      ]
    },
    {
      "cell_type": "markdown",
      "source": [
        "Positive Coefficients: Features with positive values increase the probability of survival.\n",
        "\n",
        "Negative Coefficients: Features with negative values decrease the probability of survival.\n",
        "\n",
        "Magnitude: The absolute value of the coefficients indicates the strength of the feature's influence"
      ],
      "metadata": {
        "id": "dxHHuwYPpBM2"
      }
    },
    {
      "cell_type": "markdown",
      "source": [
        "**Summary of the models performance**"
      ],
      "metadata": {
        "id": "cymHsJYJptU8"
      }
    },
    {
      "cell_type": "markdown",
      "source": [
        "1.*Accuracy:*\n",
        "\n",
        "1.   Training Accuracy (81%): Indicates that the model performs well on the training data.\n",
        "2.   Testing Accuracy (78.21%): Slightly lower accuracy on the testing set may indicate some overfitting, where the model performs well on training data but less so on unseen data.\n",
        "\n",
        "2.*Precision (0.845):*\n",
        "High precision indicates that when the model predicts survival, it is correct about 84.5% of the time. This suggests the model is good at minimizing false positives.\n",
        "\n",
        "3.*Recall (0.620):*\n",
        "Lower recall suggests that the model correctly identifies 62% of actual survivors. This means there are a considerable number of false negatives (missed survivors).\n",
        "\n",
        "4.*F1 Score (0.715):*\n",
        "The F1 Score balances precision and recall. A score of 0.715 indicates a reasonable balance but leaves room for improvement"
      ],
      "metadata": {
        "id": "Ady6mgGlpyI8"
      }
    },
    {
      "cell_type": "markdown",
      "source": [
        "**Potential Improvementstext**"
      ],
      "metadata": {
        "id": "vDl_nj-fq7Va"
      }
    },
    {
      "cell_type": "markdown",
      "source": [
        "1. trying different models or ensemble techniqyes\n",
        "2. Using cross validation for getting better estimation of the models performance\n",
        "3. hyperparamater tuninning: Using grid search cv or random search cv for finding better hyper paramaters for the model"
      ],
      "metadata": {
        "id": "gm-0R8egq_VC"
      }
    },
    {
      "cell_type": "markdown",
      "source": [
        "performing cross validation"
      ],
      "metadata": {
        "id": "hhtdYBlAsETQ"
      }
    },
    {
      "cell_type": "code",
      "source": [
        "from sklearn.model_selection import cross_val_score"
      ],
      "metadata": {
        "id": "DyXF61xcowV7"
      },
      "execution_count": null,
      "outputs": []
    },
    {
      "cell_type": "code",
      "source": [
        "cv_score_lr = cross_val_score(LogisticRegression(max_iter=1000),x,y,cv=5) #cv=no of folds i.e different cunks of data.it automatically uses stratifiedKfolds when we use integer value for cv"
      ],
      "metadata": {
        "id": "nD4kXqqAsDpB"
      },
      "execution_count": null,
      "outputs": []
    },
    {
      "cell_type": "code",
      "source": [
        "print(cv_score_lr)"
      ],
      "metadata": {
        "colab": {
          "base_uri": "https://localhost:8080/"
        },
        "id": "Pm3fpQrrsLIE",
        "outputId": "d731c451-e60c-403a-9d6b-81aba6f9da58"
      },
      "execution_count": null,
      "outputs": [
        {
          "output_type": "stream",
          "name": "stdout",
          "text": [
            "[0.79329609 0.78651685 0.79213483 0.76966292 0.8258427 ]\n"
          ]
        }
      ]
    },
    {
      "cell_type": "markdown",
      "source": [
        "for each iteration we got a accuracy value"
      ],
      "metadata": {
        "id": "XNOPHm7TsWk-"
      }
    },
    {
      "cell_type": "code",
      "source": [
        "mean_accuracy_lr = sum(cv_score_lr)/len(cv_score_lr)\n",
        "mean_accuracy_lr = mean_accuracy_lr*100\n",
        "mean_accuracy_lr = round(mean_accuracy_lr,2)\n",
        "print(mean_accuracy_lr)"
      ],
      "metadata": {
        "colab": {
          "base_uri": "https://localhost:8080/"
        },
        "id": "a1BKAagksPbG",
        "outputId": "9305b168-37c0-4bff-b4ca-9189de448729"
      },
      "execution_count": null,
      "outputs": [
        {
          "output_type": "stream",
          "name": "stdout",
          "text": [
            "79.35\n"
          ]
        }
      ]
    },
    {
      "cell_type": "markdown",
      "source": [
        "with the cross validation the accuracy came out to be 79.35%"
      ],
      "metadata": {
        "id": "7ex19DJ9siWz"
      }
    },
    {
      "cell_type": "code",
      "source": [],
      "metadata": {
        "id": "oNB3HZZDsdLq"
      },
      "execution_count": null,
      "outputs": []
    }
  ]
}